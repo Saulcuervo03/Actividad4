{
  "nbformat": 4,
  "nbformat_minor": 0,
  "metadata": {
    "colab": {
      "provenance": [],
      "include_colab_link": true
    },
    "kernelspec": {
      "name": "python3",
      "display_name": "Python 3"
    },
    "language_info": {
      "name": "python"
    }
  },
  "cells": [
    {
      "cell_type": "markdown",
      "metadata": {
        "id": "view-in-github",
        "colab_type": "text"
      },
      "source": [
        "<a href=\"https://colab.research.google.com/github/Saulcuervo03/Actividad4/blob/main/Actividad_4_Regresi%C3%B3n_Lineal_Y_Logistica.ipynb\" target=\"_parent\"><img src=\"https://colab.research.google.com/assets/colab-badge.svg\" alt=\"Open In Colab\"/></a>"
      ]
    },
    {
      "cell_type": "code",
      "execution_count": 113,
      "metadata": {
        "id": "8EfWNxYQvZm5"
      },
      "outputs": [],
      "source": [
        "#Cargamos librerias \n",
        "#Importar librerias \n",
        "import pandas as pd \n",
        "import numpy as np \n",
        "import matplotlib.pyplot as plt \n",
        "import seaborn as sns\n",
        "import scipy.special as special \n",
        "from scipy.optimize import curve_fit \n",
        "from sklearn.metrics import r2_score \n",
        "from sklearn.model_selection import train_test_split \n",
        "from sklearn.preprocessing import StandardScaler "
      ]
    },
    {
      "cell_type": "markdown",
      "source": [
        "Realizado por: \n",
        "Saúl Jesús Cuervo Méndez,\n",
        "Omar Eduardo Pelcastre Reyes "
      ],
      "metadata": {
        "id": "5G8SIySrRjLH"
      }
    },
    {
      "cell_type": "code",
      "source": [
        "#Cargar archivo csv desde seaborn\n",
        "from google.colab import files \n",
        "files.upload()"
      ],
      "metadata": {
        "id": "cMMuODS0xvLa"
      },
      "execution_count": null,
      "outputs": []
    },
    {
      "cell_type": "code",
      "source": [
        "#Carga desde un archivo .xlsx sin indice \n",
        "data= pd.read_excel('microretailer_mit_lift_lab_actualizado.xlsx')"
      ],
      "metadata": {
        "id": "s9mUXGUQyKBv"
      },
      "execution_count": 115,
      "outputs": []
    },
    {
      "cell_type": "markdown",
      "source": [
        "**Método de eliminación de valores nulos**"
      ],
      "metadata": {
        "id": "0c9ONmkXylsZ"
      }
    },
    {
      "cell_type": "code",
      "source": [
        "#Identificar valores nulos por columna \n",
        "valores_nulos=data.isnull().sum()\n",
        "valores_nulos"
      ],
      "metadata": {
        "colab": {
          "base_uri": "https://localhost:8080/"
        },
        "id": "I_I_lvm3ym27",
        "outputId": "c1c4146b-9db7-4435-d035-b61c851a6d49"
      },
      "execution_count": 116,
      "outputs": [
        {
          "output_type": "execute_result",
          "data": {
            "text/plain": [
              "_record_id                                0\n",
              "_title                                    0\n",
              "_server_updated_at                        0\n",
              "_updated_by                               0\n",
              "_geometry                                 0\n",
              "                                       ... \n",
              "234_willingness_participate_workshop    125\n",
              "318_shopkeeper_name                     249\n",
              "319_shopkeepers_last_name               252\n",
              "236_whatsapp                            255\n",
              "235_email                               283\n",
              "Length: 106, dtype: int64"
            ]
          },
          "metadata": {},
          "execution_count": 116
        }
      ]
    },
    {
      "cell_type": "code",
      "source": [
        "#Sustituir valores nulos por un str en concreto \n",
        "#data[\"268_number_fridges\"]= data[\"268_number_fridges\"].fillna(\"no_existe_información\")\n",
        "#Este método llamado valores por un str en concreto se utilizo para la sustitución de valores nulos en el apartado de 300_did_not_find, ya que son valores de tipo str.\n",
        "#Se sustituyo por la palabra \"no_existe_información\". "
      ],
      "metadata": {
        "id": "KT61HExAzi6e"
      },
      "execution_count": 117,
      "outputs": []
    },
    {
      "cell_type": "code",
      "source": [
        "#Sustituir valores nulos por un str en concreto \n",
        "data[\"pictures_of_shelves_if_possible\"]= data[\"pictures_of_shelves_if_possible\"].fillna(\"no_photo\")\n",
        "#Este método llamado valores por un str en concreto se utilizo para la sustitución de valores nulos en el apartado de 300_did_not_find, ya que son valores de tipo str.\n",
        "#Se sustituyo por la palabra \"no_photo\". "
      ],
      "metadata": {
        "id": "qI_XrTP7z7MP"
      },
      "execution_count": 118,
      "outputs": []
    },
    {
      "cell_type": "code",
      "source": [
        "#Sustituir valores nulos por un str en concreto \n",
        "data[\"233_date_establishment\"]= data[\"233_date_establishment\"].fillna(\"no_info\")\n",
        "#Este método llamado valores por un str en concreto se utilizo para la sustitución de valores nulos en el apartado de 300_did_not_find, ya que son valores de tipo str.\n",
        "#Se sustituyo por la palabra \"no_info\". "
      ],
      "metadata": {
        "id": "nXlI7o6z0WQl"
      },
      "execution_count": 119,
      "outputs": []
    },
    {
      "cell_type": "code",
      "source": [
        "#Sustituir valores nulos por un str en concreto \n",
        "#data[\"2_current_permanent_employees\"]= data[\"2_current_permanent_employees\"].fillna(\"no_cuenta_con_empleados_permanentes\")\n",
        "#Este método llamado valores por un str en concreto se utilizo para la sustitución de valores nulos en el apartado de 300_did_not_find, ya que son valores de tipo str.\n",
        "#Se sustituyo por la palabra \"no_cuenta_con_empleados_permanentes\". "
      ],
      "metadata": {
        "id": "lxZwdn0m0peY"
      },
      "execution_count": 120,
      "outputs": []
    },
    {
      "cell_type": "code",
      "source": [
        "#Sustituir valores nulos por un str en concreto \n",
        "#data[\"4_number_permanent_employees_last_year\"]= data[\"4_number_permanent_employees_last_year\"].fillna(\"no_tiene_información\")\n",
        "#Este método llamado valores por un str en concreto se utilizo para la sustitución de valores nulos en el apartado de 300_did_not_find, ya que son valores de tipo str.\n",
        "#Se sustituyo por la palabra \"no_tiene_información\". "
      ],
      "metadata": {
        "id": "zRy15McC02Gq"
      },
      "execution_count": 121,
      "outputs": []
    },
    {
      "cell_type": "code",
      "source": [
        "#Sustituir valores nulos por un str en concreto \n",
        "data[\"5_change_store_space_last_year\"]= data[\"5_change_store_space_last_year\"].fillna(\"no_info\")\n",
        "#Este método llamado valores por un str en concreto se utilizo para la sustitución de valores nulos en el apartado de 300_did_not_find, ya que son valores de tipo str.\n",
        "#Se sustituyo por la palabra \"no_info\". "
      ],
      "metadata": {
        "id": "raa6lfl508zO"
      },
      "execution_count": 122,
      "outputs": []
    },
    {
      "cell_type": "code",
      "source": [
        "#Sustituir valores nulos por un str en concreto \n",
        "data[\"6_change_employees_average_salary_last_year\"]= data[\"6_change_employees_average_salary_last_year\"].fillna(\"sin_contestar\")\n",
        "#Este método llamado valores por un str en concreto se utilizo para la sustitución de valores nulos en el apartado de 300_did_not_find, ya que son valores de tipo str.\n",
        "#Se sustituyo por la palabra \"sin_contestar\". "
      ],
      "metadata": {
        "id": "ifT62mKE1Cn-"
      },
      "execution_count": 123,
      "outputs": []
    },
    {
      "cell_type": "code",
      "source": [
        "#Sustituir valores nulos por valores no nulos hacia adelante \"forward fill\" (\"ffill\")\n",
        "#Filtro por columnas \n",
        "data[\"20_reviews_finances_monthly\"]=data[\"20_reviews_finances_monthly\"].fillna(method=\"ffill\")\n",
        "#En este apartado se utilizo la sustitución de valores nulos por valores no nulos hacía adelante \"forward\"\n",
        "#Rellenando los valores nulos con los str que se encuentran adelante del valor nulo."
      ],
      "metadata": {
        "id": "J_tDit_G1Eku"
      },
      "execution_count": 124,
      "outputs": []
    },
    {
      "cell_type": "code",
      "source": [
        "#Sustituir valores nulos por un str en concreto \n",
        "data[\"49_inventory_records\"]= data[\"49_inventory_records\"].fillna(\"no_info\")\n",
        "#Este método llamado valores por un str en concreto se utilizo para la sustitución de valores nulos en el apartado de 300_did_not_find, ya que son valores de tipo str.\n",
        "#Se sustituyo por la palabra \"no_info\". "
      ],
      "metadata": {
        "id": "quf2kwIY1Hmw"
      },
      "execution_count": 125,
      "outputs": []
    },
    {
      "cell_type": "code",
      "source": [
        "#Sustituir valores nulos por un str en concreto \n",
        "data[\"18_sales_records\"]= data[\"18_sales_records\"].fillna(\"no_info\")\n",
        "#Este método llamado valores por un str en concreto se utilizo para la sustitución de valores nulos en el apartado de 300_did_not_find, ya que son valores de tipo str.\n",
        "#Se sustituyo por la palabra \"no_info\". "
      ],
      "metadata": {
        "id": "O9UGQJe31YhX"
      },
      "execution_count": 126,
      "outputs": []
    },
    {
      "cell_type": "code",
      "source": [
        "#Sustituir valores nulos por un str en concreto \n",
        "data[\"155_sales_registers_used_for\"]= data[\"155_sales_registers_used_for\"].fillna(\"no_info\")\n",
        "#Este método llamado valores por un str en concreto se utilizo para la sustitución de valores nulos en el apartado de 300_did_not_find, ya que son valores de tipo str.\n",
        "#Se sustituyo por la palabra \"no_info\". "
      ],
      "metadata": {
        "id": "uR7VjcEa1Yj0"
      },
      "execution_count": 127,
      "outputs": []
    },
    {
      "cell_type": "code",
      "source": [
        "#Sustituir valores nulos por un str en concreto \n",
        "#data[\"103_number_own_fridges\"]= data[\"103_number_own_fridges\"].fillna(\"nothing\")\n",
        "#Este método llamado valores por un str en concreto se utilizo para la sustitución de valores nulos en el apartado de 300_did_not_find, ya que son valores de tipo str.\n",
        "#Se sustituyo por la palabra \"no_info\". "
      ],
      "metadata": {
        "id": "ChlDrcxu1YnA"
      },
      "execution_count": 128,
      "outputs": []
    },
    {
      "cell_type": "code",
      "source": [
        "#Sustituir valores nulos por valores no nulos hacia adelante \"forward fill\" (\"ffill\")\n",
        "#Filtro por columnas \n",
        "data[\"19_tax_id\"]=data[\"19_tax_id\"].fillna(method=\"ffill\")\n",
        "#En este apartado se utilizo la sustitución de valores nulos por valores no nulos hacía adelante \"forward\"\n",
        "#Rellenando los valores nulos con los str que se encuentran adelante del valor nulo."
      ],
      "metadata": {
        "id": "5J3gmRY61Y2c"
      },
      "execution_count": 129,
      "outputs": []
    },
    {
      "cell_type": "code",
      "source": [
        "#Sustituir valores nulos por un str en concreto \n",
        "#data[\"145_number_direct_competitors\"]= data[\"103_number_own_fridges\"].fillna(\"nothing\")\n",
        "#Este método llamado valores por un str en concreto se utilizo para la sustitución de valores nulos en el apartado de 300_did_not_find, ya que son valores de tipo str.\n",
        "#Se sustituyo por la palabra \"nothing\". "
      ],
      "metadata": {
        "id": "S5wmDjPS1Y5B"
      },
      "execution_count": 130,
      "outputs": []
    },
    {
      "cell_type": "code",
      "source": [
        "#Sustituir valores nulos por un str en concreto \n",
        "data[\"310_burnout\"]= data[\"310_burnout\"].fillna(\"nothing\")\n",
        "#Este método llamado valores por un str en concreto se utilizo para la sustitución de valores nulos en el apartado de 300_did_not_find, ya que son valores de tipo str.\n",
        "#Se sustituyo por la palabra \"nothing\". "
      ],
      "metadata": {
        "id": "mIpMAFim1tcC"
      },
      "execution_count": 131,
      "outputs": []
    },
    {
      "cell_type": "code",
      "source": [
        "#Sustituir valores nulos por un str en concreto \n",
        "#data[\"24_burnout\"]= data[\"24_burnout\"].fillna(\"nothing\")\n",
        "#Este método llamado valores por un str en concreto se utilizo para la sustitución de valores nulos en el apartado de 300_did_not_find, ya que son valores de tipo str.\n",
        "#Se sustituyo por la palabra \"nothing\". "
      ],
      "metadata": {
        "id": "LDTa5RIt1teo"
      },
      "execution_count": 132,
      "outputs": []
    },
    {
      "cell_type": "code",
      "source": [
        "#Sustituir valores nulos por un str en concreto \n",
        "data[\"186_internet_connection\"]= data[\"186_internet_connection\"].fillna(\"nothing\")\n",
        "#Este método llamado valores por un str en concreto se utilizo para la sustitución de valores nulos en el apartado de 300_did_not_find, ya que son valores de tipo str.\n",
        "#Se sustituyo por la palabra \"nothing\". "
      ],
      "metadata": {
        "id": "BptHzuyb1tg2"
      },
      "execution_count": 133,
      "outputs": []
    },
    {
      "cell_type": "code",
      "source": [
        "#Sustituir valores nulos por un str en concreto \n",
        "data[\"210_sales_channels\"]= data[\"210_sales_channels\"].fillna(\"nothing\")\n",
        "#Este método llamado valores por un str en concreto se utilizo para la sustitución de valores nulos en el apartado de 300_did_not_find, ya que son valores de tipo str.\n",
        "#Se sustituyo por la palabra \"nothing\"."
      ],
      "metadata": {
        "id": "qGsZheLg1tjP"
      },
      "execution_count": 134,
      "outputs": []
    },
    {
      "cell_type": "code",
      "source": [
        "#Sustituir valores nulos por un str en concreto \n",
        "data[\"189_payment_methods\"]= data[\"189_payment_methods\"].fillna(\"nothing\")\n",
        "#Este método llamado valores por un str en concreto se utilizo para la sustitución de valores nulos en el apartado de 300_did_not_find, ya que son valores de tipo str.\n",
        "#Se sustituyo por la palabra \"nothing\". "
      ],
      "metadata": {
        "id": "T_NQ7kV61tlc"
      },
      "execution_count": 135,
      "outputs": []
    },
    {
      "cell_type": "code",
      "source": [
        "#Sustituir valores nulos por un str en concreto \n",
        "data[\"28_prefered_payment_method\"]= data[\"28_prefered_payment_method\"].fillna(\"nothing\")\n",
        "#Este método llamado valores por un str en concreto se utilizo para la sustitución de valores nulos en el apartado de 300_did_not_find, ya que son valores de tipo str.\n",
        "#Se sustituyo por la palabra \"nothing\". "
      ],
      "metadata": {
        "id": "QFHHyhzk2Zkk"
      },
      "execution_count": 136,
      "outputs": []
    },
    {
      "cell_type": "code",
      "source": [
        "#Sustituir valores nulos por un str en concreto \n",
        "data[\"31_different_prices_payment_method\"]= data[\"31_different_prices_payment_method\"].fillna(\"nothing\")\n",
        "#Este método llamado valores por un str en concreto se utilizo para la sustitución de valores nulos en el apartado de 300_did_not_find, ya que son valores de tipo str.\n",
        "#Se sustituyo por la palabra \"nothing\"."
      ],
      "metadata": {
        "id": "g3kOPvjs2ZnS"
      },
      "execution_count": 137,
      "outputs": []
    },
    {
      "cell_type": "code",
      "source": [
        "#Sustituir valores nulos por un str en concreto \n",
        "data[\"269_cash_discount\"]= data[\"269_cash_discount\"].fillna(\"nothing\")\n",
        "#Este método llamado valores por un str en concreto se utilizo para la sustitución de valores nulos en el apartado de 300_did_not_find, ya que son valores de tipo str.\n",
        "#Se sustituyo por la palabra \"nothing\"."
      ],
      "metadata": {
        "id": "EG0fOewX2Zpn"
      },
      "execution_count": 138,
      "outputs": []
    },
    {
      "cell_type": "code",
      "source": [
        "#Sustituir valores nulos por un str en concreto \n",
        "data[\"270_card_extra_charge\"]= data[\"270_card_extra_charge\"].fillna(\"nothing\")\n",
        "#Este método llamado valores por un str en concreto se utilizo para la sustitución de valores nulos en el apartado de 300_did_not_find, ya que son valores de tipo str.\n",
        "#Se sustituyo por la palabra \"nothing\"."
      ],
      "metadata": {
        "id": "V64VXopf2ZsA"
      },
      "execution_count": 139,
      "outputs": []
    },
    {
      "cell_type": "code",
      "source": [
        "#Sustituir valores nulos por un str en concreto \n",
        "data[\"271_card_fee\"]= data[\"271_card_fee\"].fillna(\"nothing\")\n",
        "#Este método llamado valores por un str en concreto se utilizo para la sustitución de valores nulos en el apartado de 300_did_not_find, ya que son valores de tipo str.\n",
        "#Se sustituyo por la palabra \"nothing\"."
      ],
      "metadata": {
        "id": "c8Gux2v42ZuZ"
      },
      "execution_count": 140,
      "outputs": []
    },
    {
      "cell_type": "code",
      "source": [
        "#Sustituir valores nulos por un str en concreto \n",
        "#data[\"272_card_days_receive_money\"]= data[\"272_card_days_receive_money\"].fillna(\"nothing\")\n",
        "#Este método llamado valores por un str en concreto se utilizo para la sustitución de valores nulos en el apartado de 300_did_not_find, ya que son valores de tipo str.\n",
        "#Se sustituyo por la palabra \"nothing\"."
      ],
      "metadata": {
        "id": "X1a8U4iD2Zwo"
      },
      "execution_count": 141,
      "outputs": []
    },
    {
      "cell_type": "code",
      "source": [
        "#Sustituir valores nulos por un str en concreto \n",
        "data[\"273_platform_extra_charge\"]= data[\"273_platform_extra_charge\"].fillna(\"nothing\")\n",
        "#Este método llamado valores por un str en concreto se utilizo para la sustitución de valores nulos en el apartado de 300_did_not_find, ya que son valores de tipo str.\n",
        "#Se sustituyo por la palabra \"nothing\"."
      ],
      "metadata": {
        "id": "jAjOQiDB2Zyx"
      },
      "execution_count": 142,
      "outputs": []
    },
    {
      "cell_type": "code",
      "source": [
        "#Sustituir valores nulos por un str en concreto \n",
        "data[\"274_platform_fee\"]= data[\"274_platform_fee\"].fillna(\"nothing\")\n",
        "#Este método llamado valores por un str en concreto se utilizo para la sustitución de valores nulos en el apartado de 300_did_not_find, ya que son valores de tipo str.\n",
        "#Se sustituyo por la palabra \"nothing\"."
      ],
      "metadata": {
        "id": "bg55PCJA2Z08"
      },
      "execution_count": 143,
      "outputs": []
    },
    {
      "cell_type": "code",
      "source": [
        "#Sustituir valores nulos por un str en concreto \n",
        "data[\"275_platform_days_receive_money\"]= data[\"275_platform_days_receive_money\"].fillna(\"nothing\")\n",
        "#Este método llamado valores por un str en concreto se utilizo para la sustitución de valores nulos en el apartado de 300_did_not_find, ya que son valores de tipo str.\n",
        "#Se sustituyo por la palabra \"nothing\"."
      ],
      "metadata": {
        "id": "lE2CXfGE2Z3F"
      },
      "execution_count": 144,
      "outputs": []
    },
    {
      "cell_type": "code",
      "source": [
        "#Sustituir valores nulos por un str en concreto \n",
        "data[\"30_payment_methods_large_purchases\"]= data[\"30_payment_methods_large_purchases\"].fillna(\"nothing\")\n",
        "#Este método llamado valores por un str en concreto se utilizo para la sustitución de valores nulos en el apartado de 300_did_not_find, ya que son valores de tipo str.\n",
        "#Se sustituyo por la palabra \"nothing\"."
      ],
      "metadata": {
        "id": "-A5NVUU92Z54"
      },
      "execution_count": 145,
      "outputs": []
    },
    {
      "cell_type": "code",
      "source": [
        "#Sustituir valores nulos por un str en concreto \n",
        "data[\"214_customer_relationship_tools\"]= data[\"214_customer_relationship_tools\"].fillna(\"nothing\")\n",
        "#Este método llamado valores por un str en concreto se utilizo para la sustitución de valores nulos en el apartado de 300_did_not_find, ya que son valores de tipo str.\n",
        "#Se sustituyo por la palabra \"nothing\"."
      ],
      "metadata": {
        "id": "qrQYDZ3w2Z8c"
      },
      "execution_count": 146,
      "outputs": []
    },
    {
      "cell_type": "code",
      "source": [
        "#Sustituir valores nulos por un str en concreto \n",
        "data[\"33_credit_to_customers\"]= data[\"33_credit_to_customers\"].fillna(\"nothing\")\n",
        "#Este método llamado valores por un str en concreto se utilizo para la sustitución de valores nulos en el apartado de 300_did_not_find, ya que son valores de tipo str.\n",
        "#Se sustituyo por la palabra \"nothing\"."
      ],
      "metadata": {
        "id": "-bcQmNgy2Z_C"
      },
      "execution_count": 147,
      "outputs": []
    },
    {
      "cell_type": "code",
      "source": [
        "#Sustituir valores nulos por un str en concreto \n",
        "#data[\"276_expected_days_informal_credit\"]= data[\"276_expected_days_informal_credit\"].fillna(\"nothing\")\n",
        "#Este método llamado valores por un str en concreto se utilizo para la sustitución de valores nulos en el apartado de 300_did_not_find, ya que son valores de tipo str.\n",
        "#Se sustituyo por la palabra \"nothing\"."
      ],
      "metadata": {
        "id": "31OVuR_Q2aBU"
      },
      "execution_count": 148,
      "outputs": []
    },
    {
      "cell_type": "code",
      "source": [
        "#Sustituir valores nulos por un str en concreto \n",
        "data[\"35_interest_rate\"]= data[\"35_interest_rate\"].fillna(\"nothing\")\n",
        "#Este método llamado valores por un str en concreto se utilizo para la sustitución de valores nulos en el apartado de 300_did_not_find, ya que son valores de tipo str.\n",
        "#Se sustituyo por la palabra \"nothing\"."
      ],
      "metadata": {
        "id": "vEEGKvBb2aEy"
      },
      "execution_count": 149,
      "outputs": []
    },
    {
      "cell_type": "code",
      "source": [
        "#Sustituir valores nulos por un str en concreto \n",
        "#data[\"36_credit_default_rate\"]= data[\"36_credit_default_rate\"].fillna(\"nothing\")\n",
        "#Este método llamado valores por un str en concreto se utilizo para la sustitución de valores nulos en el apartado de 300_did_not_find, ya que son valores de tipo str.\n",
        "#Se sustituyo por la palabra \"nothing\"."
      ],
      "metadata": {
        "id": "jhGfXKfm1tnl"
      },
      "execution_count": 150,
      "outputs": []
    },
    {
      "cell_type": "code",
      "source": [
        "#Sustituir valores nulos por un str en concreto \n",
        "data[\"38_average_margin_profits\"]= data[\"38_average_margin_profits\"].fillna(\"nothing\")\n",
        "#Este método llamado valores por un str en concreto se utilizo para la sustitución de valores nulos en el apartado de 300_did_not_find, ya que son valores de tipo str.\n",
        "#Se sustituyo por la palabra \"nothing\"."
      ],
      "metadata": {
        "id": "akw-4U1_1tq0"
      },
      "execution_count": 151,
      "outputs": []
    },
    {
      "cell_type": "code",
      "source": [
        "#Sustituir valores nulos por un str en concreto \n",
        "data[\"193_sales_planning_tools\"]= data[\"193_sales_planning_tools\"].fillna(\"nothing\")\n",
        "#Este método llamado valores por un str en concreto se utilizo para la sustitución de valores nulos en el apartado de 300_did_not_find, ya que son valores de tipo str.\n",
        "#Se sustituyo por la palabra \"nothing\"."
      ],
      "metadata": {
        "id": "wD1C-Qx31Y8o"
      },
      "execution_count": 152,
      "outputs": []
    },
    {
      "cell_type": "code",
      "source": [
        "#Sustituir valores nulos por un str en concreto \n",
        "data[\"227_agreement_ecommerce_platforms\"]= data[\"227_agreement_ecommerce_platforms\"].fillna(\"nothing\")\n",
        "#Este método llamado valores por un str en concreto se utilizo para la sustitución de valores nulos en el apartado de 300_did_not_find, ya que son valores de tipo str.\n",
        "#Se sustituyo por la palabra \"nothing\"."
      ],
      "metadata": {
        "id": "0W4tdfxI3Ata"
      },
      "execution_count": 153,
      "outputs": []
    },
    {
      "cell_type": "code",
      "source": [
        "#Sustituir valores nulos por un str en concreto \n",
        "data[\"60_services\"]= data[\"60_services\"].fillna(\"nothing\")\n",
        "#Este método llamado valores por un str en concreto se utilizo para la sustitución de valores nulos en el apartado de 300_did_not_find, ya que son valores de tipo str.\n",
        "#Se sustituyo por la palabra \"nothing\"."
      ],
      "metadata": {
        "id": "NkHGukPT3AvX"
      },
      "execution_count": 154,
      "outputs": []
    },
    {
      "cell_type": "code",
      "source": [
        "#Sustituir valores nulos por un str en concreto \n",
        "#data[\"315_frequency_topups\"]= data[\"315_frequency_topups\"].fillna(\"nothing\")\n",
        "#Este método llamado valores por un str en concreto se utilizo para la sustitución de valores nulos en el apartado de 300_did_not_find, ya que son valores de tipo str.\n",
        "#Se sustituyo por la palabra \"nothing\"."
      ],
      "metadata": {
        "id": "DIXq0jH23Axq"
      },
      "execution_count": 155,
      "outputs": []
    },
    {
      "cell_type": "code",
      "source": [
        "#Sustituir valores nulos por un str en concreto \n",
        "#data[\"316_frequency_utility_bills\"]= data[\"316_frequency_utility_bills\"].fillna(\"nothing\")\n",
        "#Este método llamado valores por un str en concreto se utilizo para la sustitución de valores nulos en el apartado de 300_did_not_find, ya que son valores de tipo str.\n",
        "#Se sustituyo por la palabra \"nothing\"."
      ],
      "metadata": {
        "id": "ix3_lmvO3A0G"
      },
      "execution_count": 156,
      "outputs": []
    },
    {
      "cell_type": "code",
      "source": [
        "#Sustituir valores nulos por un str en concreto \n",
        "#data[\"317_home_deliveries\"]= data[\"317_home_deliveries\"].fillna(\"nothing\")\n",
        "#Este método llamado valores por un str en concreto se utilizo para la sustitución de valores nulos en el apartado de 300_did_not_find, ya que son valores de tipo str.\n",
        "#Se sustituyo por la palabra \"nothing\"."
      ],
      "metadata": {
        "id": "7wDoNhQ83A2F"
      },
      "execution_count": 157,
      "outputs": []
    },
    {
      "cell_type": "code",
      "source": [
        "#Sustituir valores nulos por un str en concreto \n",
        "#data[\"62_frequency_only_services\"]= data[\"62_frequency_only_services\"].fillna(\"nothing\")\n",
        "#Este método llamado valores por un str en concreto se utilizo para la sustitución de valores nulos en el apartado de 300_did_not_find, ya que son valores de tipo str.\n",
        "#Se sustituyo por la palabra \"nothing\"."
      ],
      "metadata": {
        "id": "brcrBv343A42"
      },
      "execution_count": 158,
      "outputs": []
    },
    {
      "cell_type": "code",
      "source": [
        "#Sustituir valores nulos por un str en concreto \n",
        "#data[\"78_number_home_deliveries_week\"]= data[\"78_number_home_deliveries_week\"].fillna(\"nothing\")\n",
        "#Este método llamado valores por un str en concreto se utilizo para la sustitución de valores nulos en el apartado de 300_did_not_find, ya que son valores de tipo str.\n",
        "#Se sustituyo por la palabra \"nothing\"."
      ],
      "metadata": {
        "id": "cj8InfTi3A69"
      },
      "execution_count": 159,
      "outputs": []
    },
    {
      "cell_type": "code",
      "source": [
        "#Sustituir valores nulos por un str en concreto \n",
        "data[\"77_delivery_timeslots\"]= data[\"77_delivery_timeslots\"].fillna(\"nothing\")\n",
        "#Este método llamado valores por un str en concreto se utilizo para la sustitución de valores nulos en el apartado de 300_did_not_find, ya que son valores de tipo str.\n",
        "#Se sustituyo por la palabra \"nothing\"."
      ],
      "metadata": {
        "id": "8jzLdna23A9M"
      },
      "execution_count": 160,
      "outputs": []
    },
    {
      "cell_type": "code",
      "source": [
        "#Sustituir valores nulos por un str en concreto \n",
        "data[\"79_delivery_vehicle\"]= data[\"79_delivery_vehicle\"].fillna(\"nothing\")\n",
        "#Este método llamado valores por un str en concreto se utilizo para la sustitución de valores nulos en el apartado de 300_did_not_find, ya que son valores de tipo str.\n",
        "#Se sustituyo por la palabra \"nothing\"."
      ],
      "metadata": {
        "id": "PTm6ZO-Q3A_s"
      },
      "execution_count": 161,
      "outputs": []
    },
    {
      "cell_type": "code",
      "source": [
        "#Sustituir valores nulos por un str en concreto \n",
        "data[\"64_comission_services\"]= data[\"64_comission_services\"].fillna(\"nothing\")\n",
        "#Este método llamado valores por un str en concreto se utilizo para la sustitución de valores nulos en el apartado de 300_did_not_find, ya que son valores de tipo str.\n",
        "#Se sustituyo por la palabra \"nothing\"."
      ],
      "metadata": {
        "id": "ByIAMUHY3BBw"
      },
      "execution_count": 162,
      "outputs": []
    },
    {
      "cell_type": "code",
      "source": [
        "#Sustituir valores nulos por un str en concreto \n",
        "data[\"66_percentaje_services_income\"]= data[\"66_percentaje_services_income\"].fillna(\"nothing\")\n",
        "#Este método llamado valores por un str en concreto se utilizo para la sustitución de valores nulos en el apartado de 300_did_not_find, ya que son valores de tipo str.\n",
        "#Se sustituyo por la palabra \"nothing\"."
      ],
      "metadata": {
        "id": "yn-goyv03BD5"
      },
      "execution_count": 163,
      "outputs": []
    },
    {
      "cell_type": "code",
      "source": [
        "#Sustituir valores nulos por un str en concreto \n",
        "data[\"69_why_not_services\"]= data[\"69_why_not_services\"].fillna(\"nothing\")\n",
        "#Este método llamado valores por un str en concreto se utilizo para la sustitución de valores nulos en el apartado de 300_did_not_find, ya que son valores de tipo str.\n",
        "#Se sustituyo por la palabra \"nothing\"."
      ],
      "metadata": {
        "id": "HiwgtmkQ3BHD"
      },
      "execution_count": 164,
      "outputs": []
    },
    {
      "cell_type": "code",
      "source": [
        "#Sustituir valores nulos por un str en concreto \n",
        "data[\"311_topups\"]= data[\"311_topups\"].fillna(\"nothing\")\n",
        "#Este método llamado valores por un str en concreto se utilizo para la sustitución de valores nulos en el apartado de 300_did_not_find, ya que son valores de tipo str.\n",
        "#Se sustituyo por la palabra \"nothing\"."
      ],
      "metadata": {
        "id": "yg2eTC8C3aFU"
      },
      "execution_count": 165,
      "outputs": []
    },
    {
      "cell_type": "code",
      "source": [
        "#Sustituir valores nulos por un str en concreto \n",
        "data[\"312_payment_of_utilities\"]= data[\"312_payment_of_utilities\"].fillna(\"nothing\")\n",
        "#Este método llamado valores por un str en concreto se utilizo para la sustitución de valores nulos en el apartado de 300_did_not_find, ya que son valores de tipo str.\n",
        "#Se sustituyo por la palabra \"nothing\"."
      ],
      "metadata": {
        "id": "PevHrmJw3aHc"
      },
      "execution_count": 166,
      "outputs": []
    },
    {
      "cell_type": "code",
      "source": [
        "#Sustituir valores nulos por un str en concreto \n",
        "data[\"313_home_deliveries\"]= data[\"313_home_deliveries\"].fillna(\"nothing\")\n",
        "#Este método llamado valores por un str en concreto se utilizo para la sustitución de valores nulos en el apartado de 300_did_not_find, ya que son valores de tipo str.\n",
        "#Se sustituyo por la palabra \"nothing\"."
      ],
      "metadata": {
        "id": "bAgzZtGa3aJv"
      },
      "execution_count": 167,
      "outputs": []
    },
    {
      "cell_type": "code",
      "source": [
        "#Sustituir valores nulos por un str en concreto \n",
        "data[\"314_reception_delivery_packages\"]= data[\"314_reception_delivery_packages\"].fillna(\"nothing\")\n",
        "#Este método llamado valores por un str en concreto se utilizo para la sustitución de valores nulos en el apartado de 300_did_not_find, ya que son valores de tipo str.\n",
        "#Se sustituyo por la palabra \"nothing\"."
      ],
      "metadata": {
        "id": "DqtOY9e-3aMA"
      },
      "execution_count": 168,
      "outputs": []
    },
    {
      "cell_type": "code",
      "source": [
        "#Sustituir valores nulos por un str en concreto \n",
        "data[\"42_willingness_share_inventory_data_suppliers\"]= data[\"42_willingness_share_inventory_data_suppliers\"].fillna(\"nothing\")\n",
        "#Este método llamado valores por un str en concreto se utilizo para la sustitución de valores nulos en el apartado de 300_did_not_find, ya que son valores de tipo str.\n",
        "#Se sustituyo por la palabra \"nothing\"."
      ],
      "metadata": {
        "id": "UQ54AZto3aOh"
      },
      "execution_count": 169,
      "outputs": []
    },
    {
      "cell_type": "code",
      "source": [
        "#Sustituir valores nulos por un str en concreto \n",
        "data[\"44_willingness_inventory_management_suppliers\"]= data[\"44_willingness_inventory_management_suppliers\"].fillna(\"nothing\")\n",
        "#Este método llamado valores por un str en concreto se utilizo para la sustitución de valores nulos en el apartado de 300_did_not_find, ya que son valores de tipo str.\n",
        "#Se sustituyo por la palabra \"nothing\"."
      ],
      "metadata": {
        "id": "PXKHs2113aQg"
      },
      "execution_count": 170,
      "outputs": []
    },
    {
      "cell_type": "code",
      "source": [
        "#Sustituir valores nulos por un str en concreto \n",
        "data[\"45_willingness_reorder_suppliers\"]= data[\"45_willingness_reorder_suppliers\"].fillna(\"nothing\")\n",
        "#Este método llamado valores por un str en concreto se utilizo para la sustitución de valores nulos en el apartado de 300_did_not_find, ya que son valores de tipo str.\n",
        "#Se sustituyo por la palabra \"nothing\"."
      ],
      "metadata": {
        "id": "zdyJM4hG3aSk"
      },
      "execution_count": 171,
      "outputs": []
    },
    {
      "cell_type": "code",
      "source": [
        "#Sustituir valores nulos por un str en concreto \n",
        "data[\"46_willingness_reorder_suppliers_variety\"]= data[\"46_willingness_reorder_suppliers_variety\"].fillna(\"nothing\")\n",
        "#Este método llamado valores por un str en concreto se utilizo para la sustitución de valores nulos en el apartado de 300_did_not_find, ya que son valores de tipo str.\n",
        "#Se sustituyo por la palabra \"nothing\"."
      ],
      "metadata": {
        "id": "pGBSjDuQ3aU1"
      },
      "execution_count": 172,
      "outputs": []
    },
    {
      "cell_type": "code",
      "source": [
        "#Sustituir valores nulos por un str en concreto \n",
        "data[\"47_willingness_reorder_suppliers_lower_prices\"]= data[\"47_willingness_reorder_suppliers_lower_prices\"].fillna(\"nothing\")\n",
        "#Este método llamado valores por un str en concreto se utilizo para la sustitución de valores nulos en el apartado de 300_did_not_find, ya que son valores de tipo str.\n",
        "#Se sustituyo por la palabra \"nothing\"."
      ],
      "metadata": {
        "id": "at4a4g3h3aW6"
      },
      "execution_count": 173,
      "outputs": []
    },
    {
      "cell_type": "code",
      "source": [
        "#Sustituir valores nulos por un str en concreto \n",
        "data[\"43_willingness_share_sales_data_suppliers\"]= data[\"43_willingness_share_sales_data_suppliers\"].fillna(\"nothing\")\n",
        "#Este método llamado valores por un str en concreto se utilizo para la sustitución de valores nulos en el apartado de 300_did_not_find, ya que son valores de tipo str.\n",
        "#Se sustituyo por la palabra \"nothing\"."
      ],
      "metadata": {
        "id": "-JTSpK883aZB"
      },
      "execution_count": 174,
      "outputs": []
    },
    {
      "cell_type": "code",
      "source": [
        "#Sustituir valores nulos por un str en concreto \n",
        "data[\"58_willingness_share_sales_data_mse\"]= data[\"58_willingness_share_sales_data_mse\"].fillna(\"nothing\")\n",
        "#Este método llamado valores por un str en concreto se utilizo para la sustitución de valores nulos en el apartado de 300_did_not_find, ya que son valores de tipo str.\n",
        "#Se sustituyo por la palabra \"nothing\"."
      ],
      "metadata": {
        "id": "gZJkQ4UQ3abb"
      },
      "execution_count": 175,
      "outputs": []
    },
    {
      "cell_type": "code",
      "source": [
        "#Sustituir valores nulos por un str en concreto \n",
        "data[\"59_willingness_share_sales_data_mse_better_prices\"]= data[\"59_willingness_share_sales_data_mse_better_prices\"].fillna(\"nothing\")\n",
        "#Este método llamado valores por un str en concreto se utilizo para la sustitución de valores nulos en el apartado de 300_did_not_find, ya que son valores de tipo str.\n",
        "#Se sustituyo por la palabra \"nothing\"."
      ],
      "metadata": {
        "id": "VBMT5IML3add"
      },
      "execution_count": 176,
      "outputs": []
    },
    {
      "cell_type": "code",
      "source": [
        "#Sustituir valores nulos por un str en concreto \n",
        "#data[\"172_supplier_frequency\"]= data[\"172_supplier_frequency\"].fillna(\"nothing\")\n",
        "#Este método llamado valores por un str en concreto se utilizo para la sustitución de valores nulos en el apartado de 300_did_not_find, ya que son valores de tipo str.\n",
        "#Se sustituyo por la palabra \"nothing\"."
      ],
      "metadata": {
        "id": "t9V14FSq3agr"
      },
      "execution_count": 177,
      "outputs": []
    },
    {
      "cell_type": "code",
      "source": [
        "#Sustituir valores nulos por un str en concreto \n",
        "data[\"185_place_orders_suppliers\"]= data[\"185_place_orders_suppliers\"].fillna(\"nothing\")\n",
        "#Este método llamado valores por un str en concreto se utilizo para la sustitución de valores nulos en el apartado de 300_did_not_find, ya que son valores de tipo str.\n",
        "#Se sustituyo por la palabra \"nothing\"."
      ],
      "metadata": {
        "id": "DoukS7-O37VA"
      },
      "execution_count": 178,
      "outputs": []
    },
    {
      "cell_type": "code",
      "source": [
        "#Sustituir valores nulos por un str en concreto \n",
        "data[\"53_special_conditions_suppliers\"]= data[\"53_special_conditions_suppliers\"].fillna(\"nothing\")\n",
        "#Este método llamado valores por un str en concreto se utilizo para la sustitución de valores nulos en el apartado de 300_did_not_find, ya que son valores de tipo str.\n",
        "#Se sustituyo por la palabra \"nothing\"."
      ],
      "metadata": {
        "id": "49nWV9Ge37XJ"
      },
      "execution_count": 179,
      "outputs": []
    },
    {
      "cell_type": "code",
      "source": [
        "#Sustituir valores nulos por un str en concreto \n",
        "data[\"278_credit_interest\"]= data[\"278_credit_interest\"].fillna(\"nothing\")\n",
        "#Este método llamado valores por un str en concreto se utilizo para la sustitución de valores nulos en el apartado de 300_did_not_find, ya que son valores de tipo str.\n",
        "#Se sustituyo por la palabra \"nothing\"."
      ],
      "metadata": {
        "id": "Jq2u65Fi37ZP"
      },
      "execution_count": 180,
      "outputs": []
    },
    {
      "cell_type": "code",
      "source": [
        "#Sustituir valores nulos por un str en concreto \n",
        "data[\"192_procurement_planning_tools\"]= data[\"192_procurement_planning_tools\"].fillna(\"nothing\")\n",
        "#Este método llamado valores por un str en concreto se utilizo para la sustitución de valores nulos en el apartado de 300_did_not_find, ya que son valores de tipo str.\n",
        "#Se sustituyo por la palabra \"nothing\"."
      ],
      "metadata": {
        "id": "gWWSTYeQ37b0"
      },
      "execution_count": 181,
      "outputs": []
    },
    {
      "cell_type": "code",
      "source": [
        "#Sustituir valores nulos por un str en concreto \n",
        "data[\"277_payment_method_suppliers\"]= data[\"277_payment_method_suppliers\"].fillna(\"nothing\")\n",
        "#Este método llamado valores por un str en concreto se utilizo para la sustitución de valores nulos en el apartado de 300_did_not_find, ya que son valores de tipo str.\n",
        "#Se sustituyo por la palabra \"nothing\"."
      ],
      "metadata": {
        "id": "tGiQP9wU37dx"
      },
      "execution_count": 182,
      "outputs": []
    },
    {
      "cell_type": "code",
      "source": [
        "#Sustituir valores nulos por un str en concreto \n",
        "data[\"56_procurement_changes_pandemic\"]= data[\"56_procurement_changes_pandemic\"].fillna(\"nothing\")\n",
        "#Este método llamado valores por un str en concreto se utilizo para la sustitución de valores nulos en el apartado de 300_did_not_find, ya que son valores de tipo str.\n",
        "#Se sustituyo por la palabra \"nothing\"."
      ],
      "metadata": {
        "id": "rRccbum-37gF"
      },
      "execution_count": 183,
      "outputs": []
    },
    {
      "cell_type": "code",
      "source": [
        "#Sustituir valores nulos por un str en concreto \n",
        "data[\"279_changes_procurement_pandemic\"]= data[\"279_changes_procurement_pandemic\"].fillna(\"nothing\")\n",
        "#Este método llamado valores por un str en concreto se utilizo para la sustitución de valores nulos en el apartado de 300_did_not_find, ya que son valores de tipo str.\n",
        "#Se sustituyo por la palabra \"nothing\"."
      ],
      "metadata": {
        "id": "Xd5JHC-b37ic"
      },
      "execution_count": 184,
      "outputs": []
    },
    {
      "cell_type": "code",
      "source": [
        "#Sustituir valores nulos por un str en concreto \n",
        "data[\"157_frequency_organize_shelves\"]= data[\"157_frequency_organize_shelves\"].fillna(\"nothing\")\n",
        "#Este método llamado valores por un str en concreto se utilizo para la sustitución de valores nulos en el apartado de 300_did_not_find, ya que son valores de tipo str.\n",
        "#Se sustituyo por la palabra \"nothing\"."
      ],
      "metadata": {
        "id": "lLPaDaZ037lJ"
      },
      "execution_count": 185,
      "outputs": []
    },
    {
      "cell_type": "code",
      "source": [
        "#Sustituir valores nulos por un str en concreto \n",
        "data[\"158_charact_organize_products_on_shelves\"]= data[\"158_charact_organize_products_on_shelves\"].fillna(\"nothing\")\n",
        "#Este método llamado valores por un str en concreto se utilizo para la sustitución de valores nulos en el apartado de 300_did_not_find, ya que son valores de tipo str.\n",
        "#Se sustituyo por la palabra \"nothing\"."
      ],
      "metadata": {
        "id": "cRmHK6hn37nX"
      },
      "execution_count": 186,
      "outputs": []
    },
    {
      "cell_type": "code",
      "source": [
        "#Sustituir valores nulos por un str en concreto \n",
        "data[\"161_actions_stockouts\"]= data[\"161_actions_stockouts\"].fillna(\"nothing\")\n",
        "#Este método llamado valores por un str en concreto se utilizo para la sustitución de valores nulos en el apartado de 300_did_not_find, ya que son valores de tipo str.\n",
        "#Se sustituyo por la palabra \"nothing\"."
      ],
      "metadata": {
        "id": "nn0dlpu137pR"
      },
      "execution_count": 187,
      "outputs": []
    },
    {
      "cell_type": "code",
      "source": [
        "#Sustituir valores nulos por un str en concreto \n",
        "data[\"162_inventory_extra_space\"]= data[\"162_inventory_extra_space\"].fillna(\"nothing\")\n",
        "#Este método llamado valores por un str en concreto se utilizo para la sustitución de valores nulos en el apartado de 300_did_not_find, ya que son valores de tipo str.\n",
        "#Se sustituyo por la palabra \"nothing\"."
      ],
      "metadata": {
        "id": "HaDWcCYJ37rp"
      },
      "execution_count": 188,
      "outputs": []
    },
    {
      "cell_type": "code",
      "source": [
        "#Sustituir valores nulos por un str en concreto \n",
        "data[\"163_number_high_perishable_products\"]= data[\"163_number_high_perishable_products\"].fillna(\"nothing\")\n",
        "#Este método llamado valores por un str en concreto se utilizo para la sustitución de valores nulos en el apartado de 300_did_not_find, ya que son valores de tipo str.\n",
        "#Se sustituyo por la palabra \"nothing\"."
      ],
      "metadata": {
        "id": "t4DOFBMq37tw"
      },
      "execution_count": 189,
      "outputs": []
    },
    {
      "cell_type": "code",
      "source": [
        "#Sustituir valores nulos por un str en concreto \n",
        "data[\"249_technology_training\"]= data[\"249_technology_training\"].fillna(\"nothing\")\n",
        "#Este método llamado valores por un str en concreto se utilizo para la sustitución de valores nulos en el apartado de 300_did_not_find, ya que son valores de tipo str.\n",
        "#Se sustituyo por la palabra \"nothing\"."
      ],
      "metadata": {
        "id": "OHAvfMyo37v7"
      },
      "execution_count": 190,
      "outputs": []
    },
    {
      "cell_type": "code",
      "source": [
        "#Sustituir valores nulos por un str en concreto \n",
        "data[\"250_technology_investment_operations\"]= data[\"250_technology_investment_operations\"].fillna(\"nothing\")\n",
        "#Este método llamado valores por un str en concreto se utilizo para la sustitución de valores nulos en el apartado de 300_did_not_find, ya que son valores de tipo str.\n",
        "#Se sustituyo por la palabra \"nothing\"."
      ],
      "metadata": {
        "id": "sB7gTOC537yO"
      },
      "execution_count": 191,
      "outputs": []
    },
    {
      "cell_type": "code",
      "source": [
        "#Sustituir valores nulos por un str en concreto \n",
        "data[\"251_technology_investment_customers\"]= data[\"251_technology_investment_customers\"].fillna(\"nothing\")\n",
        "#Este método llamado valores por un str en concreto se utilizo para la sustitución de valores nulos en el apartado de 300_did_not_find, ya que son valores de tipo str.\n",
        "#Se sustituyo por la palabra \"nothing\"."
      ],
      "metadata": {
        "id": "9yrT1NQ637z4"
      },
      "execution_count": 192,
      "outputs": []
    },
    {
      "cell_type": "code",
      "source": [
        "#Sustituir valores nulos por un str en concreto \n",
        "data[\"254_technology_roadmap\"]= data[\"254_technology_roadmap\"].fillna(\"nothing\")\n",
        "#Este método llamado valores por un str en concreto se utilizo para la sustitución de valores nulos en el apartado de 300_did_not_find, ya que son valores de tipo str.\n",
        "#Se sustituyo por la palabra \"nothing\"."
      ],
      "metadata": {
        "id": "SBgKguXs373T"
      },
      "execution_count": 193,
      "outputs": []
    },
    {
      "cell_type": "code",
      "source": [
        "#Sustituir valores nulos por un str en concreto \n",
        "data[\"260_technology_scalable\"]= data[\"260_technology_scalable\"].fillna(\"nothing\")\n",
        "#Este método llamado valores por un str en concreto se utilizo para la sustitución de valores nulos en el apartado de 300_did_not_find, ya que son valores de tipo str.\n",
        "#Se sustituyo por la palabra \"nothing\"."
      ],
      "metadata": {
        "id": "yMneXjLL4doI"
      },
      "execution_count": 194,
      "outputs": []
    },
    {
      "cell_type": "code",
      "source": [
        "#Sustituir valores nulos por un str en concreto \n",
        "data[\"261_technology_organization\"]= data[\"261_technology_organization\"].fillna(\"nothing\")\n",
        "#Este método llamado valores por un str en concreto se utilizo para la sustitución de valores nulos en el apartado de 300_did_not_find, ya que son valores de tipo str.\n",
        "#Se sustituyo por la palabra \"nothing\"."
      ],
      "metadata": {
        "id": "w1ATuPhn4drP"
      },
      "execution_count": 195,
      "outputs": []
    },
    {
      "cell_type": "code",
      "source": [
        "#Sustituir valores nulos por un str en concreto \n",
        "data[\"262_technology_serve_customers\"]= data[\"262_technology_serve_customers\"].fillna(\"nothing\")\n",
        "#Este método llamado valores por un str en concreto se utilizo para la sustitución de valores nulos en el apartado de 300_did_not_find, ya que son valores de tipo str.\n",
        "#Se sustituyo por la palabra \"nothing\"."
      ],
      "metadata": {
        "id": "rCE7NGVq4dte"
      },
      "execution_count": 196,
      "outputs": []
    },
    {
      "cell_type": "code",
      "source": [
        "#Sustituir valores nulos por un str en concreto \n",
        "data[\"263_technology_secure_sales\"]= data[\"263_technology_secure_sales\"].fillna(\"nothing\")\n",
        "#Este método llamado valores por un str en concreto se utilizo para la sustitución de valores nulos en el apartado de 300_did_not_find, ya que son valores de tipo str.\n",
        "#Se sustituyo por la palabra \"nothing\"."
      ],
      "metadata": {
        "id": "DaQLBuMm4du_"
      },
      "execution_count": 197,
      "outputs": []
    },
    {
      "cell_type": "code",
      "source": [
        "#Sustituir valores nulos por un str en concreto \n",
        "data[\"264_technology_budget\"]= data[\"264_technology_budget\"].fillna(\"nothing\")\n",
        "#Este método llamado valores por un str en concreto se utilizo para la sustitución de valores nulos en el apartado de 300_did_not_find, ya que son valores de tipo str.\n",
        "#Se sustituyo por la palabra \"nothing\"."
      ],
      "metadata": {
        "id": "gNzsQM2E4dwp"
      },
      "execution_count": 198,
      "outputs": []
    },
    {
      "cell_type": "code",
      "source": [
        "#Sustituir valores nulos por un str en concreto \n",
        "data[\"267_technology_investment_customer_preferences\"]= data[\"267_technology_investment_customer_preferences\"].fillna(\"nothing\")\n",
        "#Este método llamado valores por un str en concreto se utilizo para la sustitución de valores nulos en el apartado de 300_did_not_find, ya que son valores de tipo str.\n",
        "#Se sustituyo por la palabra \"nothing\"."
      ],
      "metadata": {
        "id": "w1-Os5p_4dy-"
      },
      "execution_count": 199,
      "outputs": []
    },
    {
      "cell_type": "code",
      "source": [
        "#Sustituir valores nulos por un str en concreto \n",
        "data[\"234_willingness_participate_workshop\"]= data[\"234_willingness_participate_workshop\"].fillna(\"nothing\")\n",
        "#Este método llamado valores por un str en concreto se utilizo para la sustitución de valores nulos en el apartado de 300_did_not_find, ya que son valores de tipo str.\n",
        "#Se sustituyo por la palabra \"nothing\"."
      ],
      "metadata": {
        "id": "YW6viVVW4d1Q"
      },
      "execution_count": 200,
      "outputs": []
    },
    {
      "cell_type": "code",
      "source": [
        "#Sustituir valores nulos por un str en concreto \n",
        "data[\"318_shopkeeper_name\"]= data[\"318_shopkeeper_name\"].fillna(\"nothing\")\n",
        "#Este método llamado valores por un str en concreto se utilizo para la sustitución de valores nulos en el apartado de 300_did_not_find, ya que son valores de tipo str.\n",
        "#Se sustituyo por la palabra \"nothing\"."
      ],
      "metadata": {
        "id": "HxCgU-Oy4d4R"
      },
      "execution_count": 201,
      "outputs": []
    },
    {
      "cell_type": "code",
      "source": [
        "#Sustituir valores nulos por un str en concreto \n",
        "data[\"319_shopkeepers_last_name\"]= data[\"319_shopkeepers_last_name\"].fillna(\"nothing\")\n",
        "#Este método llamado valores por un str en concreto se utilizo para la sustitución de valores nulos en el apartado de 300_did_not_find, ya que son valores de tipo str.\n",
        "#Se sustituyo por la palabra \"nothing\"."
      ],
      "metadata": {
        "id": "-dd1lu_i4d6e"
      },
      "execution_count": 202,
      "outputs": []
    },
    {
      "cell_type": "code",
      "source": [
        "#Sustituir valores nulos por un str en concreto \n",
        "data[\"236_whatsapp\"]= data[\"236_whatsapp\"].fillna(\"nothing\")\n",
        "#Este método llamado valores por un str en concreto se utilizo para la sustitución de valores nulos en el apartado de 300_did_not_find, ya que son valores de tipo str.\n",
        "#Se sustituyo por la palabra \"nothing\"."
      ],
      "metadata": {
        "id": "k4y2n5uf4d9S"
      },
      "execution_count": 203,
      "outputs": []
    },
    {
      "cell_type": "code",
      "source": [
        "#Sustituir valores nulos por un str en concreto \n",
        "data[\"235_email\"]= data[\"235_email\"].fillna(\"nothing\")\n",
        "#Este método llamado valores por un str en concreto se utilizo para la sustitución de valores nulos en el apartado de 300_did_not_find, ya que son valores de tipo str.\n",
        "#Se sustituyo por la palabra \"nothing\"."
      ],
      "metadata": {
        "id": "ED55YyBJ4d_7"
      },
      "execution_count": 204,
      "outputs": []
    },
    {
      "cell_type": "code",
      "source": [
        "#Sustituir valores nulos por un str en concreto \n",
        "data[\"228_store_name\"]= data[\"228_store_name\"].fillna(\"nothing\")\n",
        "#Este método llamado valores por un str en concreto se utilizo para la sustitución de valores nulos en el apartado de 300_did_not_find, ya que son valores de tipo str.\n",
        "#Se sustituyo por la palabra \"nothing\"."
      ],
      "metadata": {
        "id": "Bhc8kHwm5Y6k"
      },
      "execution_count": 205,
      "outputs": []
    },
    {
      "cell_type": "code",
      "source": [
        "#Corroboramos valores nulos \n",
        "valores_nulos=data.isnull().sum().sum()\n",
        "valores_nulos"
      ],
      "metadata": {
        "colab": {
          "base_uri": "https://localhost:8080/"
        },
        "id": "AZlHBT9j4exJ",
        "outputId": "f3d78b46-5e49-4d4d-c421-c2f8a4983aff"
      },
      "execution_count": 206,
      "outputs": [
        {
          "output_type": "execute_result",
          "data": {
            "text/plain": [
              "3428"
            ]
          },
          "metadata": {},
          "execution_count": 206
        }
      ]
    },
    {
      "cell_type": "code",
      "source": [
        "data.info(int)"
      ],
      "metadata": {
        "colab": {
          "base_uri": "https://localhost:8080/"
        },
        "id": "QZ8Xrc6d4ezq",
        "outputId": "5bc4d97b-8791-4c17-fa7d-212daa836641"
      },
      "execution_count": 207,
      "outputs": [
        {
          "output_type": "stream",
          "name": "stdout",
          "text": [
            "<class 'pandas.core.frame.DataFrame'>\n",
            "RangeIndex: 330 entries, 0 to 329\n",
            "Data columns (total 106 columns):\n",
            " #    Column                                                      Dtype  \n",
            "---   ------                                                      -----  \n",
            " 0    _record_id                                                  object \n",
            " 1    _title                                                      object \n",
            " 2    _server_updated_at                                          object \n",
            " 3    _updated_by                                                 object \n",
            " 4    _geometry                                                   object \n",
            " 5    _latitude                                                   float64\n",
            " 6    _longitude                                                  float64\n",
            " 7    228_store_name                                              object \n",
            " 8    229_store_picture                                           object \n",
            " 9    232_type_of_store                                           object \n",
            " 10   108_does_the_micro_retailer_has_a_barred_window_            object \n",
            " 11   99_does_the_micro_retailer_exhibits_products_outside_       object \n",
            " 12   102_does_the_micro_retailer_sells_fresh_products_           object \n",
            " 13   97_number_of_customers_in_store                             int64  \n",
            " 14   268_number_fridges                                          float64\n",
            " 15   184_store_devices                                           object \n",
            " 16   104_how_many_shelves_does_the_micro_retailer_have           int64  \n",
            " 17   pictures_of_shelves_if_possible                             object \n",
            " 18   hola_somos_estudiantes_del_tec_de_monterrey_estamos_realiz  object \n",
            " 19   le_comento_que_toda_esta_informacin_es_confidencial         object \n",
            " 20   233_date_establishment                                      object \n",
            " 21   2_current_permanent_employees                               float64\n",
            " 22   4_number_permanent_employees_last_year                      float64\n",
            " 23   5_change_store_space_last_year                              object \n",
            " 24   6_change_employees_average_salary_last_year                 object \n",
            " 25   20_reviews_finances_monthly                                 object \n",
            " 26   49_inventory_records                                        object \n",
            " 27   18_sales_records                                            object \n",
            " 28   155_sales_registers_used_for                                object \n",
            " 29   103_number_own_fridges                                      float64\n",
            " 30   19_tax_id                                                   object \n",
            " 31   145_number_direct_competitors                               float64\n",
            " 32   310_burnout                                                 object \n",
            " 33   24_burnout                                                  float64\n",
            " 34   186_internet_connection                                     object \n",
            " 35   210_sales_channels                                          object \n",
            " 36   189_payment_methods                                         object \n",
            " 37   28_prefered_payment_method                                  object \n",
            " 38   31_different_prices_payment_method                          object \n",
            " 39   269_cash_discount                                           object \n",
            " 40   270_card_extra_charge                                       object \n",
            " 41   271_card_fee                                                object \n",
            " 42   272_card_days_receive_money                                 float64\n",
            " 43   273_platform_extra_charge                                   object \n",
            " 44   274_platform_fee                                            object \n",
            " 45   275_platform_days_receive_money                             object \n",
            " 46   30_payment_methods_large_purchases                          object \n",
            " 47   214_customer_relationship_tools                             object \n",
            " 48   33_credit_to_customers                                      object \n",
            " 49   276_expected_days_informal_credit                           float64\n",
            " 50   35_interest_rate                                            object \n",
            " 51   36_credit_default_rate                                      float64\n",
            " 52   38_average_margin_profits                                   object \n",
            " 53   193_sales_planning_tools                                    object \n",
            " 54   227_agreement_ecommerce_platforms                           object \n",
            " 55   60_services                                                 object \n",
            " 56   315_frequency_topups                                        float64\n",
            " 57   316_frequency_utility_bills                                 float64\n",
            " 58   317_home_deliveries                                         float64\n",
            " 59   62_frequency_only_services                                  float64\n",
            " 60   78_number_home_deliveries_week                              float64\n",
            " 61   77_delivery_timeslots                                       object \n",
            " 62   79_delivery_vehicle                                         object \n",
            " 63   64_comission_services                                       object \n",
            " 64   66_percentaje_services_income                               object \n",
            " 65   69_why_not_services                                         object \n",
            " 66   311_topups                                                  object \n",
            " 67   312_payment_of_utilities                                    object \n",
            " 68   313_home_deliveries                                         object \n",
            " 69   314_reception_delivery_packages                             object \n",
            " 70   42_willingness_share_inventory_data_suppliers               object \n",
            " 71   44_willingness_inventory_management_suppliers               object \n",
            " 72   45_willingness_reorder_suppliers                            object \n",
            " 73   46_willingness_reorder_suppliers_variety                    object \n",
            " 74   47_willingness_reorder_suppliers_lower_prices               object \n",
            " 75   43_willingness_share_sales_data_suppliers                   object \n",
            " 76   58_willingness_share_sales_data_mse                         object \n",
            " 77   59_willingness_share_sales_data_mse_better_prices           object \n",
            " 78   172_supplier_frequency                                      float64\n",
            " 79   185_place_orders_suppliers                                  object \n",
            " 80   53_special_conditions_suppliers                             object \n",
            " 81   278_credit_interest                                         object \n",
            " 82   192_procurement_planning_tools                              object \n",
            " 83   277_payment_method_suppliers                                object \n",
            " 84   56_procurement_changes_pandemic                             object \n",
            " 85   279_changes_procurement_pandemic                            object \n",
            " 86   157_frequency_organize_shelves                              object \n",
            " 87   158_charact_organize_products_on_shelves                    object \n",
            " 88   161_actions_stockouts                                       object \n",
            " 89   162_inventory_extra_space                                   object \n",
            " 90   163_number_high_perishable_products                         object \n",
            " 91   249_technology_training                                     object \n",
            " 92   250_technology_investment_operations                        object \n",
            " 93   251_technology_investment_customers                         object \n",
            " 94   254_technology_roadmap                                      object \n",
            " 95   260_technology_scalable                                     object \n",
            " 96   261_technology_organization                                 object \n",
            " 97   262_technology_serve_customers                              object \n",
            " 98   263_technology_secure_sales                                 object \n",
            " 99   264_technology_budget                                       object \n",
            " 100  267_technology_investment_customer_preferences              object \n",
            " 101  234_willingness_participate_workshop                        object \n",
            " 102  318_shopkeeper_name                                         object \n",
            " 103  319_shopkeepers_last_name                                   object \n",
            " 104  236_whatsapp                                                object \n",
            " 105  235_email                                                   object \n",
            "dtypes: float64(17), int64(2), object(87)\n",
            "memory usage: 273.4+ KB\n"
          ]
        }
      ]
    },
    {
      "cell_type": "code",
      "source": [
        "#Filtro por columnas\n",
        "filtro_col=data.iloc[ : , [0,1,2,3,4,5,6,7,8,10,11,12,15,17,18,19,20,23,24,25,26,27,28,30,32,34,35,36,37,38,39,40,41,43,44,45,46,47,48,50,52,53,54,55,61,62,63,64,65,66,67,68,69,70,71,72,73,74,75,76,77,79,80,81,82,83,84,85,86,87,88,89,90,91,92,93,94,95,96,97,98,99,100,101,102,103,104,105]]\n",
        "filtro_col"
      ],
      "metadata": {
        "id": "3R7vIIe54e3L"
      },
      "execution_count": null,
      "outputs": []
    },
    {
      "cell_type": "code",
      "source": [
        "#Filtro por columnas\n",
        "filtro_i=data.iloc[ : , [13,14,16,21,22,29,31,33,42,49,51,56,57,58,59,60,78]]\n",
        "filtro_i"
      ],
      "metadata": {
        "id": "66VXb7cGQGSj"
      },
      "execution_count": null,
      "outputs": []
    },
    {
      "cell_type": "code",
      "source": [
        "#Corroboramos valores nulos \n",
        "valores_nulos=filtro_i.isnull().sum()\n",
        "valores_nulos"
      ],
      "metadata": {
        "id": "VKxHzBWgQPLr"
      },
      "execution_count": null,
      "outputs": []
    },
    {
      "cell_type": "markdown",
      "source": [
        "Procedemos a remplazar outliers "
      ],
      "metadata": {
        "id": "eA6PYxLMQTcm"
      }
    },
    {
      "cell_type": "code",
      "source": [
        "#Realizamos diagrama de caja o bigote de cada columna del dataframe \n",
        "fig = plt.figure(figsize =(15, 8))\n",
        "filtro_i.plot(kind='box', vert=False)\n",
        "plt.title(\"Valores Atípicos del Dataframe\")\n",
        "plt.show() #Dibujamos el diagrama"
      ],
      "metadata": {
        "id": "661gQvReQT9k"
      },
      "execution_count": null,
      "outputs": []
    },
    {
      "cell_type": "code",
      "source": [
        "#Realizamos diagrama de caja o bigote\n",
        "fig = plt.figure(figsize =(10, 6))\n",
        "plt.boxplot(filtro_i[\"104_how_many_shelves_does_the_micro_retailer_have\"])\n",
        "plt.title(\"Valores atípicos del DataFrame\")\n",
        "plt.show() #dibujamos el diagrama"
      ],
      "metadata": {
        "id": "U-CLb0kCQW9N"
      },
      "execution_count": null,
      "outputs": []
    },
    {
      "cell_type": "markdown",
      "source": [
        "Método de desviación estandar \n",
        "Esté método se aplico para sustituir valores atípicos del DataFrame, encontrando los valores extremos, como siguiente paso encontrar los outliers, y así obtener datos limpios, estos valores se remplazaron con \"mean\"."
      ],
      "metadata": {
        "id": "Vpw6KTfrQeiJ"
      }
    },
    {
      "cell_type": "code",
      "source": [
        "#Método aplicando desviación estándar. Encuentro los valores extremos\n",
        "y=filtro_i\n",
        "Limite_Superior= y.mean() + 3*y.std()\n",
        "Limite_Inferior= y.mean() - 3*y.std()\n",
        "print(\"Límite superior permitido\", Limite_Superior)\n",
        "print(\"Limite inferior permitido\", Limite_Inferior)"
      ],
      "metadata": {
        "id": "mmlmd7w8QbzG"
      },
      "execution_count": null,
      "outputs": []
    },
    {
      "cell_type": "code",
      "source": [
        "#Encontramos Outliers\n",
        "outliers= filtro_i[(y>Limite_Superior)|(y<Limite_Inferior)]\n",
        "outliers"
      ],
      "metadata": {
        "id": "77WUwELDQhS2"
      },
      "execution_count": null,
      "outputs": []
    },
    {
      "cell_type": "code",
      "source": [
        "#Obtenemos datos limpios\n",
        "filtroi_clean= filtro_i[(y<=Limite_Superior)&(y>=Limite_Inferior)]\n",
        "filtroi_clean"
      ],
      "metadata": {
        "id": "d4Z3LIqfQkM2"
      },
      "execution_count": null,
      "outputs": []
    },
    {
      "cell_type": "code",
      "source": [
        "#Corroboramos valores nulos \n",
        "valores_nulos=filtroi_clean.isnull().sum()\n",
        "valores_nulos"
      ],
      "metadata": {
        "id": "gFSzFGCMQrBs"
      },
      "execution_count": null,
      "outputs": []
    },
    {
      "cell_type": "code",
      "source": [
        "#Reemplazamos valores atípicos (nulos) del dataframe con \"mean\"\n",
        "#Realizamos una copia del dataframe\n",
        "data_clean=filtroi_clean.copy()\n",
        "data_clean=filtroi_clean.fillna(round(filtroi_clean.mean(),1))\n",
        "data_clean"
      ],
      "metadata": {
        "id": "CCPDZ7syQsHO"
      },
      "execution_count": null,
      "outputs": []
    },
    {
      "cell_type": "code",
      "source": [
        "Microretailer_Datos_Limpios = pd.concat([data_clean, filtro_col], axis=1)\n",
        "Microretailer_Datos_Limpios"
      ],
      "metadata": {
        "colab": {
          "base_uri": "https://localhost:8080/",
          "height": 540
        },
        "id": "kQ4JqLT0QvHH",
        "outputId": "a3525940-fe4b-40f2-e627-bc5c2367fd92"
      },
      "execution_count": 236,
      "outputs": [
        {
          "output_type": "execute_result",
          "data": {
            "text/plain": [
              "     97_number_of_customers_in_store  268_number_fridges  \\\n",
              "0                                1.0                 3.0   \n",
              "1                                2.0                 0.0   \n",
              "2                                2.0                 0.0   \n",
              "3                                1.0                 0.0   \n",
              "4                                3.0                 2.0   \n",
              "..                               ...                 ...   \n",
              "325                              0.0                 1.0   \n",
              "326                              1.0                 0.0   \n",
              "327                              3.0                 1.0   \n",
              "328                              0.0                 1.0   \n",
              "329                              1.0                 3.0   \n",
              "\n",
              "     104_how_many_shelves_does_the_micro_retailer_have  \\\n",
              "0                                                  3.0   \n",
              "1                                                  0.0   \n",
              "2                                                  0.0   \n",
              "3                                                  0.0   \n",
              "4                                                  3.0   \n",
              "..                                                 ...   \n",
              "325                                                7.0   \n",
              "326                                                5.0   \n",
              "327                                                1.0   \n",
              "328                                                1.0   \n",
              "329                                                1.0   \n",
              "\n",
              "     2_current_permanent_employees  4_number_permanent_employees_last_year  \\\n",
              "0                              2.0                                    10.0   \n",
              "1                              1.8                                     2.0   \n",
              "2                              1.8                                     2.0   \n",
              "3                              0.0                                     0.0   \n",
              "4                              1.8                                     2.0   \n",
              "..                             ...                                     ...   \n",
              "325                            4.0                                     2.0   \n",
              "326                            1.8                                     2.0   \n",
              "327                            1.8                                     2.0   \n",
              "328                            1.8                                     2.0   \n",
              "329                            1.8                                     2.0   \n",
              "\n",
              "     103_number_own_fridges  145_number_direct_competitors  24_burnout  \\\n",
              "0                       3.0                            5.0         2.0   \n",
              "1                       1.8                            3.7         3.9   \n",
              "2                       1.8                            3.7         3.9   \n",
              "3                       1.8                           10.0         3.9   \n",
              "4                       1.8                            3.7         3.9   \n",
              "..                      ...                            ...         ...   \n",
              "325                     1.8                            5.0         3.9   \n",
              "326                     1.8                            3.7         3.9   \n",
              "327                     1.8                            3.7         3.9   \n",
              "328                     1.8                            3.7         3.9   \n",
              "329                     1.8                            3.7         3.9   \n",
              "\n",
              "     272_card_days_receive_money  276_expected_days_informal_credit  ...  \\\n",
              "0                            0.9                               10.8  ...   \n",
              "1                            0.9                               10.8  ...   \n",
              "2                            0.9                               10.8  ...   \n",
              "3                            0.9                               10.8  ...   \n",
              "4                            0.9                               10.8  ...   \n",
              "..                           ...                                ...  ...   \n",
              "325                          1.0                               10.8  ...   \n",
              "326                          0.9                               10.8  ...   \n",
              "327                          0.9                               10.8  ...   \n",
              "328                          0.9                               10.8  ...   \n",
              "329                          0.9                               10.8  ...   \n",
              "\n",
              "     261_technology_organization  262_technology_serve_customers  \\\n",
              "0                     De acuerdo  Ni de acuerdo ni en desacuerdo   \n",
              "1                        nothing                         nothing   \n",
              "2                        nothing                         nothing   \n",
              "3                  En desacuerdo                         nothing   \n",
              "4                        nothing                         nothing   \n",
              "..                           ...                             ...   \n",
              "325     Totalmente en desacuerdo        Totalmente en desacuerdo   \n",
              "326                      nothing                         nothing   \n",
              "327                      nothing                         nothing   \n",
              "328                      nothing                         nothing   \n",
              "329                      nothing                         nothing   \n",
              "\n",
              "        263_technology_secure_sales           264_technology_budget  \\\n",
              "0    Ni de acuerdo ni en desacuerdo  Ni de acuerdo ni en desacuerdo   \n",
              "1                           nothing                         nothing   \n",
              "2                           nothing                         nothing   \n",
              "3                     En desacuerdo        Totalmente en desacuerdo   \n",
              "4                           nothing                         nothing   \n",
              "..                              ...                             ...   \n",
              "325        Totalmente en desacuerdo        Totalmente en desacuerdo   \n",
              "326                         nothing                         nothing   \n",
              "327                         nothing                         nothing   \n",
              "328                         nothing                         nothing   \n",
              "329                         nothing                         nothing   \n",
              "\n",
              "     267_technology_investment_customer_preferences  \\\n",
              "0                    Ni de acuerdo ni en desacuerdo   \n",
              "1                                           nothing   \n",
              "2                                           nothing   \n",
              "3                                     En desacuerdo   \n",
              "4                                           nothing   \n",
              "..                                              ...   \n",
              "325                                      De acuerdo   \n",
              "326                                         nothing   \n",
              "327                                         nothing   \n",
              "328                                         nothing   \n",
              "329                                         nothing   \n",
              "\n",
              "     234_willingness_participate_workshop  318_shopkeeper_name  \\\n",
              "0                                      no              nothing   \n",
              "1                                 nothing              nothing   \n",
              "2                                 nothing              nothing   \n",
              "3                                      no              nothing   \n",
              "4                                 nothing              nothing   \n",
              "..                                    ...                  ...   \n",
              "325                                   yes               Frida    \n",
              "326                               nothing              nothing   \n",
              "327                               nothing              nothing   \n",
              "328                               nothing              nothing   \n",
              "329                               nothing              nothing   \n",
              "\n",
              "    319_shopkeepers_last_name  236_whatsapp              235_email  \n",
              "0                     nothing       nothing                nothing  \n",
              "1                     nothing       nothing                nothing  \n",
              "2                     nothing       nothing                nothing  \n",
              "3                     nothing       nothing                nothing  \n",
              "4                     nothing       nothing                nothing  \n",
              "..                        ...           ...                    ...  \n",
              "325         Juárez Hernández   2212380183.0  Hachi401096@gmail.com  \n",
              "326                   nothing       nothing                nothing  \n",
              "327                   nothing       nothing                nothing  \n",
              "328                   nothing       nothing                nothing  \n",
              "329                   nothing       nothing                nothing  \n",
              "\n",
              "[330 rows x 105 columns]"
            ],
            "text/html": [
              "\n",
              "  <div id=\"df-338ebcdd-e349-4b86-8ab2-86b7efcef0c8\">\n",
              "    <div class=\"colab-df-container\">\n",
              "      <div>\n",
              "<style scoped>\n",
              "    .dataframe tbody tr th:only-of-type {\n",
              "        vertical-align: middle;\n",
              "    }\n",
              "\n",
              "    .dataframe tbody tr th {\n",
              "        vertical-align: top;\n",
              "    }\n",
              "\n",
              "    .dataframe thead th {\n",
              "        text-align: right;\n",
              "    }\n",
              "</style>\n",
              "<table border=\"1\" class=\"dataframe\">\n",
              "  <thead>\n",
              "    <tr style=\"text-align: right;\">\n",
              "      <th></th>\n",
              "      <th>97_number_of_customers_in_store</th>\n",
              "      <th>268_number_fridges</th>\n",
              "      <th>104_how_many_shelves_does_the_micro_retailer_have</th>\n",
              "      <th>2_current_permanent_employees</th>\n",
              "      <th>4_number_permanent_employees_last_year</th>\n",
              "      <th>103_number_own_fridges</th>\n",
              "      <th>145_number_direct_competitors</th>\n",
              "      <th>24_burnout</th>\n",
              "      <th>272_card_days_receive_money</th>\n",
              "      <th>276_expected_days_informal_credit</th>\n",
              "      <th>...</th>\n",
              "      <th>261_technology_organization</th>\n",
              "      <th>262_technology_serve_customers</th>\n",
              "      <th>263_technology_secure_sales</th>\n",
              "      <th>264_technology_budget</th>\n",
              "      <th>267_technology_investment_customer_preferences</th>\n",
              "      <th>234_willingness_participate_workshop</th>\n",
              "      <th>318_shopkeeper_name</th>\n",
              "      <th>319_shopkeepers_last_name</th>\n",
              "      <th>236_whatsapp</th>\n",
              "      <th>235_email</th>\n",
              "    </tr>\n",
              "  </thead>\n",
              "  <tbody>\n",
              "    <tr>\n",
              "      <th>0</th>\n",
              "      <td>1.0</td>\n",
              "      <td>3.0</td>\n",
              "      <td>3.0</td>\n",
              "      <td>2.0</td>\n",
              "      <td>10.0</td>\n",
              "      <td>3.0</td>\n",
              "      <td>5.0</td>\n",
              "      <td>2.0</td>\n",
              "      <td>0.9</td>\n",
              "      <td>10.8</td>\n",
              "      <td>...</td>\n",
              "      <td>De acuerdo</td>\n",
              "      <td>Ni de acuerdo ni en desacuerdo</td>\n",
              "      <td>Ni de acuerdo ni en desacuerdo</td>\n",
              "      <td>Ni de acuerdo ni en desacuerdo</td>\n",
              "      <td>Ni de acuerdo ni en desacuerdo</td>\n",
              "      <td>no</td>\n",
              "      <td>nothing</td>\n",
              "      <td>nothing</td>\n",
              "      <td>nothing</td>\n",
              "      <td>nothing</td>\n",
              "    </tr>\n",
              "    <tr>\n",
              "      <th>1</th>\n",
              "      <td>2.0</td>\n",
              "      <td>0.0</td>\n",
              "      <td>0.0</td>\n",
              "      <td>1.8</td>\n",
              "      <td>2.0</td>\n",
              "      <td>1.8</td>\n",
              "      <td>3.7</td>\n",
              "      <td>3.9</td>\n",
              "      <td>0.9</td>\n",
              "      <td>10.8</td>\n",
              "      <td>...</td>\n",
              "      <td>nothing</td>\n",
              "      <td>nothing</td>\n",
              "      <td>nothing</td>\n",
              "      <td>nothing</td>\n",
              "      <td>nothing</td>\n",
              "      <td>nothing</td>\n",
              "      <td>nothing</td>\n",
              "      <td>nothing</td>\n",
              "      <td>nothing</td>\n",
              "      <td>nothing</td>\n",
              "    </tr>\n",
              "    <tr>\n",
              "      <th>2</th>\n",
              "      <td>2.0</td>\n",
              "      <td>0.0</td>\n",
              "      <td>0.0</td>\n",
              "      <td>1.8</td>\n",
              "      <td>2.0</td>\n",
              "      <td>1.8</td>\n",
              "      <td>3.7</td>\n",
              "      <td>3.9</td>\n",
              "      <td>0.9</td>\n",
              "      <td>10.8</td>\n",
              "      <td>...</td>\n",
              "      <td>nothing</td>\n",
              "      <td>nothing</td>\n",
              "      <td>nothing</td>\n",
              "      <td>nothing</td>\n",
              "      <td>nothing</td>\n",
              "      <td>nothing</td>\n",
              "      <td>nothing</td>\n",
              "      <td>nothing</td>\n",
              "      <td>nothing</td>\n",
              "      <td>nothing</td>\n",
              "    </tr>\n",
              "    <tr>\n",
              "      <th>3</th>\n",
              "      <td>1.0</td>\n",
              "      <td>0.0</td>\n",
              "      <td>0.0</td>\n",
              "      <td>0.0</td>\n",
              "      <td>0.0</td>\n",
              "      <td>1.8</td>\n",
              "      <td>10.0</td>\n",
              "      <td>3.9</td>\n",
              "      <td>0.9</td>\n",
              "      <td>10.8</td>\n",
              "      <td>...</td>\n",
              "      <td>En desacuerdo</td>\n",
              "      <td>nothing</td>\n",
              "      <td>En desacuerdo</td>\n",
              "      <td>Totalmente en desacuerdo</td>\n",
              "      <td>En desacuerdo</td>\n",
              "      <td>no</td>\n",
              "      <td>nothing</td>\n",
              "      <td>nothing</td>\n",
              "      <td>nothing</td>\n",
              "      <td>nothing</td>\n",
              "    </tr>\n",
              "    <tr>\n",
              "      <th>4</th>\n",
              "      <td>3.0</td>\n",
              "      <td>2.0</td>\n",
              "      <td>3.0</td>\n",
              "      <td>1.8</td>\n",
              "      <td>2.0</td>\n",
              "      <td>1.8</td>\n",
              "      <td>3.7</td>\n",
              "      <td>3.9</td>\n",
              "      <td>0.9</td>\n",
              "      <td>10.8</td>\n",
              "      <td>...</td>\n",
              "      <td>nothing</td>\n",
              "      <td>nothing</td>\n",
              "      <td>nothing</td>\n",
              "      <td>nothing</td>\n",
              "      <td>nothing</td>\n",
              "      <td>nothing</td>\n",
              "      <td>nothing</td>\n",
              "      <td>nothing</td>\n",
              "      <td>nothing</td>\n",
              "      <td>nothing</td>\n",
              "    </tr>\n",
              "    <tr>\n",
              "      <th>...</th>\n",
              "      <td>...</td>\n",
              "      <td>...</td>\n",
              "      <td>...</td>\n",
              "      <td>...</td>\n",
              "      <td>...</td>\n",
              "      <td>...</td>\n",
              "      <td>...</td>\n",
              "      <td>...</td>\n",
              "      <td>...</td>\n",
              "      <td>...</td>\n",
              "      <td>...</td>\n",
              "      <td>...</td>\n",
              "      <td>...</td>\n",
              "      <td>...</td>\n",
              "      <td>...</td>\n",
              "      <td>...</td>\n",
              "      <td>...</td>\n",
              "      <td>...</td>\n",
              "      <td>...</td>\n",
              "      <td>...</td>\n",
              "      <td>...</td>\n",
              "    </tr>\n",
              "    <tr>\n",
              "      <th>325</th>\n",
              "      <td>0.0</td>\n",
              "      <td>1.0</td>\n",
              "      <td>7.0</td>\n",
              "      <td>4.0</td>\n",
              "      <td>2.0</td>\n",
              "      <td>1.8</td>\n",
              "      <td>5.0</td>\n",
              "      <td>3.9</td>\n",
              "      <td>1.0</td>\n",
              "      <td>10.8</td>\n",
              "      <td>...</td>\n",
              "      <td>Totalmente en desacuerdo</td>\n",
              "      <td>Totalmente en desacuerdo</td>\n",
              "      <td>Totalmente en desacuerdo</td>\n",
              "      <td>Totalmente en desacuerdo</td>\n",
              "      <td>De acuerdo</td>\n",
              "      <td>yes</td>\n",
              "      <td>Frida</td>\n",
              "      <td>Juárez Hernández</td>\n",
              "      <td>2212380183.0</td>\n",
              "      <td>Hachi401096@gmail.com</td>\n",
              "    </tr>\n",
              "    <tr>\n",
              "      <th>326</th>\n",
              "      <td>1.0</td>\n",
              "      <td>0.0</td>\n",
              "      <td>5.0</td>\n",
              "      <td>1.8</td>\n",
              "      <td>2.0</td>\n",
              "      <td>1.8</td>\n",
              "      <td>3.7</td>\n",
              "      <td>3.9</td>\n",
              "      <td>0.9</td>\n",
              "      <td>10.8</td>\n",
              "      <td>...</td>\n",
              "      <td>nothing</td>\n",
              "      <td>nothing</td>\n",
              "      <td>nothing</td>\n",
              "      <td>nothing</td>\n",
              "      <td>nothing</td>\n",
              "      <td>nothing</td>\n",
              "      <td>nothing</td>\n",
              "      <td>nothing</td>\n",
              "      <td>nothing</td>\n",
              "      <td>nothing</td>\n",
              "    </tr>\n",
              "    <tr>\n",
              "      <th>327</th>\n",
              "      <td>3.0</td>\n",
              "      <td>1.0</td>\n",
              "      <td>1.0</td>\n",
              "      <td>1.8</td>\n",
              "      <td>2.0</td>\n",
              "      <td>1.8</td>\n",
              "      <td>3.7</td>\n",
              "      <td>3.9</td>\n",
              "      <td>0.9</td>\n",
              "      <td>10.8</td>\n",
              "      <td>...</td>\n",
              "      <td>nothing</td>\n",
              "      <td>nothing</td>\n",
              "      <td>nothing</td>\n",
              "      <td>nothing</td>\n",
              "      <td>nothing</td>\n",
              "      <td>nothing</td>\n",
              "      <td>nothing</td>\n",
              "      <td>nothing</td>\n",
              "      <td>nothing</td>\n",
              "      <td>nothing</td>\n",
              "    </tr>\n",
              "    <tr>\n",
              "      <th>328</th>\n",
              "      <td>0.0</td>\n",
              "      <td>1.0</td>\n",
              "      <td>1.0</td>\n",
              "      <td>1.8</td>\n",
              "      <td>2.0</td>\n",
              "      <td>1.8</td>\n",
              "      <td>3.7</td>\n",
              "      <td>3.9</td>\n",
              "      <td>0.9</td>\n",
              "      <td>10.8</td>\n",
              "      <td>...</td>\n",
              "      <td>nothing</td>\n",
              "      <td>nothing</td>\n",
              "      <td>nothing</td>\n",
              "      <td>nothing</td>\n",
              "      <td>nothing</td>\n",
              "      <td>nothing</td>\n",
              "      <td>nothing</td>\n",
              "      <td>nothing</td>\n",
              "      <td>nothing</td>\n",
              "      <td>nothing</td>\n",
              "    </tr>\n",
              "    <tr>\n",
              "      <th>329</th>\n",
              "      <td>1.0</td>\n",
              "      <td>3.0</td>\n",
              "      <td>1.0</td>\n",
              "      <td>1.8</td>\n",
              "      <td>2.0</td>\n",
              "      <td>1.8</td>\n",
              "      <td>3.7</td>\n",
              "      <td>3.9</td>\n",
              "      <td>0.9</td>\n",
              "      <td>10.8</td>\n",
              "      <td>...</td>\n",
              "      <td>nothing</td>\n",
              "      <td>nothing</td>\n",
              "      <td>nothing</td>\n",
              "      <td>nothing</td>\n",
              "      <td>nothing</td>\n",
              "      <td>nothing</td>\n",
              "      <td>nothing</td>\n",
              "      <td>nothing</td>\n",
              "      <td>nothing</td>\n",
              "      <td>nothing</td>\n",
              "    </tr>\n",
              "  </tbody>\n",
              "</table>\n",
              "<p>330 rows × 105 columns</p>\n",
              "</div>\n",
              "      <button class=\"colab-df-convert\" onclick=\"convertToInteractive('df-338ebcdd-e349-4b86-8ab2-86b7efcef0c8')\"\n",
              "              title=\"Convert this dataframe to an interactive table.\"\n",
              "              style=\"display:none;\">\n",
              "        \n",
              "  <svg xmlns=\"http://www.w3.org/2000/svg\" height=\"24px\"viewBox=\"0 0 24 24\"\n",
              "       width=\"24px\">\n",
              "    <path d=\"M0 0h24v24H0V0z\" fill=\"none\"/>\n",
              "    <path d=\"M18.56 5.44l.94 2.06.94-2.06 2.06-.94-2.06-.94-.94-2.06-.94 2.06-2.06.94zm-11 1L8.5 8.5l.94-2.06 2.06-.94-2.06-.94L8.5 2.5l-.94 2.06-2.06.94zm10 10l.94 2.06.94-2.06 2.06-.94-2.06-.94-.94-2.06-.94 2.06-2.06.94z\"/><path d=\"M17.41 7.96l-1.37-1.37c-.4-.4-.92-.59-1.43-.59-.52 0-1.04.2-1.43.59L10.3 9.45l-7.72 7.72c-.78.78-.78 2.05 0 2.83L4 21.41c.39.39.9.59 1.41.59.51 0 1.02-.2 1.41-.59l7.78-7.78 2.81-2.81c.8-.78.8-2.07 0-2.86zM5.41 20L4 18.59l7.72-7.72 1.47 1.35L5.41 20z\"/>\n",
              "  </svg>\n",
              "      </button>\n",
              "      \n",
              "  <style>\n",
              "    .colab-df-container {\n",
              "      display:flex;\n",
              "      flex-wrap:wrap;\n",
              "      gap: 12px;\n",
              "    }\n",
              "\n",
              "    .colab-df-convert {\n",
              "      background-color: #E8F0FE;\n",
              "      border: none;\n",
              "      border-radius: 50%;\n",
              "      cursor: pointer;\n",
              "      display: none;\n",
              "      fill: #1967D2;\n",
              "      height: 32px;\n",
              "      padding: 0 0 0 0;\n",
              "      width: 32px;\n",
              "    }\n",
              "\n",
              "    .colab-df-convert:hover {\n",
              "      background-color: #E2EBFA;\n",
              "      box-shadow: 0px 1px 2px rgba(60, 64, 67, 0.3), 0px 1px 3px 1px rgba(60, 64, 67, 0.15);\n",
              "      fill: #174EA6;\n",
              "    }\n",
              "\n",
              "    [theme=dark] .colab-df-convert {\n",
              "      background-color: #3B4455;\n",
              "      fill: #D2E3FC;\n",
              "    }\n",
              "\n",
              "    [theme=dark] .colab-df-convert:hover {\n",
              "      background-color: #434B5C;\n",
              "      box-shadow: 0px 1px 3px 1px rgba(0, 0, 0, 0.15);\n",
              "      filter: drop-shadow(0px 1px 2px rgba(0, 0, 0, 0.3));\n",
              "      fill: #FFFFFF;\n",
              "    }\n",
              "  </style>\n",
              "\n",
              "      <script>\n",
              "        const buttonEl =\n",
              "          document.querySelector('#df-338ebcdd-e349-4b86-8ab2-86b7efcef0c8 button.colab-df-convert');\n",
              "        buttonEl.style.display =\n",
              "          google.colab.kernel.accessAllowed ? 'block' : 'none';\n",
              "\n",
              "        async function convertToInteractive(key) {\n",
              "          const element = document.querySelector('#df-338ebcdd-e349-4b86-8ab2-86b7efcef0c8');\n",
              "          const dataTable =\n",
              "            await google.colab.kernel.invokeFunction('convertToInteractive',\n",
              "                                                     [key], {});\n",
              "          if (!dataTable) return;\n",
              "\n",
              "          const docLinkHtml = 'Like what you see? Visit the ' +\n",
              "            '<a target=\"_blank\" href=https://colab.research.google.com/notebooks/data_table.ipynb>data table notebook</a>'\n",
              "            + ' to learn more about interactive tables.';\n",
              "          element.innerHTML = '';\n",
              "          dataTable['output_type'] = 'display_data';\n",
              "          await google.colab.output.renderOutput(dataTable, element);\n",
              "          const docLink = document.createElement('div');\n",
              "          docLink.innerHTML = docLinkHtml;\n",
              "          element.appendChild(docLink);\n",
              "        }\n",
              "      </script>\n",
              "    </div>\n",
              "  </div>\n",
              "  "
            ]
          },
          "metadata": {},
          "execution_count": 236
        }
      ]
    },
    {
      "cell_type": "code",
      "source": [
        "#Convertir DataFrame a CSV \n",
        "Microretailer_Datos_Limpios.to_csv(\"Micro_limpio.csv\")"
      ],
      "metadata": {
        "id": "IzP6kMQsBPvu"
      },
      "execution_count": 379,
      "outputs": []
    },
    {
      "cell_type": "code",
      "source": [
        "#Descargar archivo filtrado en csv \n",
        "from google.colab import files \n",
        "files.download(\"Micro_limpio.csv\")"
      ],
      "metadata": {
        "colab": {
          "base_uri": "https://localhost:8080/",
          "height": 17
        },
        "id": "6el99T6mBWXC",
        "outputId": "2105fafc-df45-4449-ab1b-9756456adeda"
      },
      "execution_count": 380,
      "outputs": [
        {
          "output_type": "display_data",
          "data": {
            "text/plain": [
              "<IPython.core.display.Javascript object>"
            ],
            "application/javascript": [
              "\n",
              "    async function download(id, filename, size) {\n",
              "      if (!google.colab.kernel.accessAllowed) {\n",
              "        return;\n",
              "      }\n",
              "      const div = document.createElement('div');\n",
              "      const label = document.createElement('label');\n",
              "      label.textContent = `Downloading \"${filename}\": `;\n",
              "      div.appendChild(label);\n",
              "      const progress = document.createElement('progress');\n",
              "      progress.max = size;\n",
              "      div.appendChild(progress);\n",
              "      document.body.appendChild(div);\n",
              "\n",
              "      const buffers = [];\n",
              "      let downloaded = 0;\n",
              "\n",
              "      const channel = await google.colab.kernel.comms.open(id);\n",
              "      // Send a message to notify the kernel that we're ready.\n",
              "      channel.send({})\n",
              "\n",
              "      for await (const message of channel.messages) {\n",
              "        // Send a message to notify the kernel that we're ready.\n",
              "        channel.send({})\n",
              "        if (message.buffers) {\n",
              "          for (const buffer of message.buffers) {\n",
              "            buffers.push(buffer);\n",
              "            downloaded += buffer.byteLength;\n",
              "            progress.value = downloaded;\n",
              "          }\n",
              "        }\n",
              "      }\n",
              "      const blob = new Blob(buffers, {type: 'application/binary'});\n",
              "      const a = document.createElement('a');\n",
              "      a.href = window.URL.createObjectURL(blob);\n",
              "      a.download = filename;\n",
              "      div.appendChild(a);\n",
              "      a.click();\n",
              "      div.remove();\n",
              "    }\n",
              "  "
            ]
          },
          "metadata": {}
        },
        {
          "output_type": "display_data",
          "data": {
            "text/plain": [
              "<IPython.core.display.Javascript object>"
            ],
            "application/javascript": [
              "download(\"download_4174a4b9-1928-4d5e-803f-41232cfd73d2\", \"Micro_limpio.csv\", 418893)"
            ]
          },
          "metadata": {}
        }
      ]
    },
    {
      "cell_type": "markdown",
      "source": [
        "Casos de Correlación"
      ],
      "metadata": {
        "id": "7sbTUrMiZSfd"
      }
    },
    {
      "cell_type": "markdown",
      "source": [
        "1."
      ],
      "metadata": {
        "id": "_JZ8fxiuZWwR"
      }
    },
    {
      "cell_type": "code",
      "source": [
        "from turtle import color\n",
        "\n",
        "sns.scatterplot(x='145_number_direct_competitors', y='97_number_of_customers_in_store', color=\"blue\", data=Microretailer_Datos_Limpios)\n",
        "sns.scatterplot(x='272_card_days_receive_money', y='97_number_of_customers_in_store', color=\"red\", data=Microretailer_Datos_Limpios)\n",
        "sns.scatterplot(x='276_expected_days_informal_credit', y='97_number_of_customers_in_store', color=\"yellow\", data=Microretailer_Datos_Limpios)"
      ],
      "metadata": {
        "colab": {
          "base_uri": "https://localhost:8080/",
          "height": 297
        },
        "id": "kJmLrlCXZU7v",
        "outputId": "444c89f3-84d4-4881-ae25-9117518e2329"
      },
      "execution_count": 315,
      "outputs": [
        {
          "output_type": "execute_result",
          "data": {
            "text/plain": [
              "<matplotlib.axes._subplots.AxesSubplot at 0x7fa3b5104bd0>"
            ]
          },
          "metadata": {},
          "execution_count": 315
        },
        {
          "output_type": "display_data",
          "data": {
            "text/plain": [
              "<Figure size 432x288 with 1 Axes>"
            ],
            "image/png": "[encoded data removed]"
          },
          "metadata": {
            "needs_background": "light"
          }
        }
      ]
    },
    {
      "cell_type": "code",
      "source": [
        "#Declaramos las variables dependientes e independientes para la regresión lineal\n",
        "Vars_Indep= Microretailer_Datos_Limpios[['145_number_direct_competitors', '272_card_days_receive_money','276_expected_days_informal_credit']]\n",
        "Var_Dep= Microretailer_Datos_Limpios['97_number_of_customers_in_store']"
      ],
      "metadata": {
        "id": "7mh3CkiiilNV"
      },
      "execution_count": 316,
      "outputs": []
    },
    {
      "cell_type": "code",
      "source": [
        "#Se define model como la función de regresión lineal\n",
        "from sklearn.linear_model import LinearRegression\n",
        "model= LinearRegression()"
      ],
      "metadata": {
        "id": "J2NphmuCi2gn"
      },
      "execution_count": 317,
      "outputs": []
    },
    {
      "cell_type": "code",
      "source": [
        "#Verificamos la función relacionada al modelo\n",
        "type(model)"
      ],
      "metadata": {
        "colab": {
          "base_uri": "https://localhost:8080/"
        },
        "id": "B2aqXa3oi5QO",
        "outputId": "b8dfd6ee-9f10-4830-a096-445e8f5d27d9"
      },
      "execution_count": 318,
      "outputs": [
        {
          "output_type": "execute_result",
          "data": {
            "text/plain": [
              "sklearn.linear_model._base.LinearRegression"
            ]
          },
          "metadata": {},
          "execution_count": 318
        }
      ]
    },
    {
      "cell_type": "code",
      "source": [
        "#Ajustamos el modelo con las variables antes declaradas\n",
        "model.fit(X=Vars_Indep, y=Var_Dep)"
      ],
      "metadata": {
        "colab": {
          "base_uri": "https://localhost:8080/"
        },
        "id": "RYpP7BC9i860",
        "outputId": "03c031ad-c773-4e24-8f47-e2364ebdb09a"
      },
      "execution_count": 319,
      "outputs": [
        {
          "output_type": "execute_result",
          "data": {
            "text/plain": [
              "LinearRegression()"
            ]
          },
          "metadata": {},
          "execution_count": 319
        }
      ]
    },
    {
      "cell_type": "code",
      "source": [
        "#Verificamos los coeficientes obtenidos para el modelo ajustado\n",
        "model.__dict__"
      ],
      "metadata": {
        "colab": {
          "base_uri": "https://localhost:8080/"
        },
        "id": "N2ZlObBJroNt",
        "outputId": "8c0926b9-4c13-4347-bd6f-2512fd67ea82"
      },
      "execution_count": 320,
      "outputs": [
        {
          "output_type": "execute_result",
          "data": {
            "text/plain": [
              "{'fit_intercept': True,\n",
              " 'normalize': 'deprecated',\n",
              " 'copy_X': True,\n",
              " 'n_jobs': None,\n",
              " 'positive': False,\n",
              " 'feature_names_in_': array(['145_number_direct_competitors', '272_card_days_receive_money',\n",
              "        '276_expected_days_informal_credit'], dtype=object),\n",
              " 'n_features_in_': 3,\n",
              " 'coef_': array([ 0.00085021, -0.54875961, -0.04272498]),\n",
              " '_residues': 584.871721249838,\n",
              " 'rank_': 3,\n",
              " 'singular_': array([61.45779777, 42.86544434,  5.71821799]),\n",
              " 'intercept_': 2.144628746732185}"
            ]
          },
          "metadata": {},
          "execution_count": 320
        }
      ]
    },
    {
      "cell_type": "code",
      "source": [
        "#Evaluamos la eficiencia del modelo obtenido por medio del coeficiente R2 Determinación\n",
        "model.score(Vars_Indep,Var_Dep)"
      ],
      "metadata": {
        "colab": {
          "base_uri": "https://localhost:8080/"
        },
        "id": "UbsXxooLrryM",
        "outputId": "b68c0482-b6e9-4568-aa30-fbfd787e94ab"
      },
      "execution_count": 321,
      "outputs": [
        {
          "output_type": "execute_result",
          "data": {
            "text/plain": [
              "0.026489981050868083"
            ]
          },
          "metadata": {},
          "execution_count": 321
        }
      ]
    },
    {
      "cell_type": "markdown",
      "source": [
        "MODELO PREDICTIVO"
      ],
      "metadata": {
        "id": "3VQqoGaWrvtj"
      }
    },
    {
      "cell_type": "code",
      "source": [
        "#Predecimos los valores de total de accidentes a partir de las variables: \"alcohol\", \"speeding\" y \"no_previous\"\n",
        "y_pred= model.predict(X=Microretailer_Datos_Limpios[['268_number_fridges', '272_card_days_receive_money', '276_expected_days_informal_credit']])\n",
        "y_pred"
      ],
      "metadata": {
        "id": "dnzwU5dGrxrG"
      },
      "execution_count": null,
      "outputs": []
    },
    {
      "cell_type": "code",
      "source": [
        "#Insertamos la columna de predicciones en el DataFrame\n",
        "Microretailer_Datos_Limpios.insert(0, 'Predicciones1', y_pred)\n",
        "Microretailer_Datos_Limpios"
      ],
      "metadata": {
        "id": "pbT2wGZHsIyH"
      },
      "execution_count": null,
      "outputs": []
    },
    {
      "cell_type": "code",
      "source": [
        "#Visualizamos la gráfica comparativa entre el total real y el total predecido\n",
        "\n",
        "sns.scatterplot(x='145_number_direct_competitors', y='97_number_of_customers_in_store', color=\"blue\", data=Microretailer_Datos_Limpios)\n",
        "sns.scatterplot(x='145_number_direct_competitors', y='Predicciones', color=\"red\", data=Microretailer_Datos_Limpios)"
      ],
      "metadata": {
        "id": "NOzLJceFsUKB"
      },
      "execution_count": null,
      "outputs": []
    },
    {
      "cell_type": "code",
      "source": [
        "#Corroboramos cual es el coeficiente de Determinación de nuestro modelo\n",
        "coef_Deter=model.score(X=Vars_Indep, y=Var_Dep)\n",
        "coef_Deter"
      ],
      "metadata": {
        "colab": {
          "base_uri": "https://localhost:8080/"
        },
        "id": "MDrxQm6AsnvU",
        "outputId": "a3a7516d-1a5c-4827-84fd-dc623bf9af9f"
      },
      "execution_count": 326,
      "outputs": [
        {
          "output_type": "execute_result",
          "data": {
            "text/plain": [
              "0.026489981050868083"
            ]
          },
          "metadata": {},
          "execution_count": 326
        }
      ]
    },
    {
      "cell_type": "code",
      "source": [
        "#Corroboramos cual es el coeficiente de Correlación de nuestro modelo\n",
        "coef_Correl=np.sqrt(coef_Deter)\n",
        "coef_Correl"
      ],
      "metadata": {
        "colab": {
          "base_uri": "https://localhost:8080/"
        },
        "id": "-pwRf8hNsrof",
        "outputId": "1dced438-a38e-41dc-8ce9-684dffd784ec"
      },
      "execution_count": 327,
      "outputs": [
        {
          "output_type": "execute_result",
          "data": {
            "text/plain": [
              "0.16275743009419902"
            ]
          },
          "metadata": {},
          "execution_count": 327
        }
      ]
    },
    {
      "cell_type": "markdown",
      "source": [
        "2."
      ],
      "metadata": {
        "id": "8TWhTJk2syfU"
      }
    },
    {
      "cell_type": "code",
      "source": [
        "from turtle import color\n",
        "sns.scatterplot(x='268_number_fridges', y='4_number_permanent_employees_last_year', color=\"blue\", data=Microretailer_Datos_Limpios)\n",
        "sns.scatterplot(x='104_how_many_shelves_does_the_micro_retailer_have', y='4_number_permanent_employees_last_year', color=\"red\", data=Microretailer_Datos_Limpios)\n",
        "sns.scatterplot(x='2_current_permanent_employees', y='4_number_permanent_employees_last_year', color=\"yellow\", data=Microretailer_Datos_Limpios)"
      ],
      "metadata": {
        "id": "JZyE0J88szcU"
      },
      "execution_count": null,
      "outputs": []
    },
    {
      "cell_type": "code",
      "source": [
        "#Declaramos las variables dependientes e independientes para la regresión lineal\n",
        "Vars_Indep= Microretailer_Datos_Limpios[['268_number_fridges', '104_how_many_shelves_does_the_micro_retailer_have','2_current_permanent_employees']]\n",
        "Var_Dep= Microretailer_Datos_Limpios['4_number_permanent_employees_last_year']"
      ],
      "metadata": {
        "id": "U7RtMn2qs5XU"
      },
      "execution_count": 329,
      "outputs": []
    },
    {
      "cell_type": "code",
      "source": [
        "#Se define model como la función de regresión lineal\n",
        "from sklearn.linear_model import LinearRegression\n",
        "model= LinearRegression()"
      ],
      "metadata": {
        "id": "ivPKpbH7s7bb"
      },
      "execution_count": 330,
      "outputs": []
    },
    {
      "cell_type": "code",
      "source": [
        "#Verificamos la función relacionada al modelo\n",
        "type(model)"
      ],
      "metadata": {
        "colab": {
          "base_uri": "https://localhost:8080/"
        },
        "id": "hTwVUCNSs9q8",
        "outputId": "9650280d-052a-4c77-bfdc-0aa5f260a8ff"
      },
      "execution_count": 331,
      "outputs": [
        {
          "output_type": "execute_result",
          "data": {
            "text/plain": [
              "sklearn.linear_model._base.LinearRegression"
            ]
          },
          "metadata": {},
          "execution_count": 331
        }
      ]
    },
    {
      "cell_type": "code",
      "source": [
        "#Ajustamos el modelo con las variables antes declaradas\n",
        "model.fit(X=Vars_Indep, y=Var_Dep)"
      ],
      "metadata": {
        "colab": {
          "base_uri": "https://localhost:8080/"
        },
        "id": "lACYeizjs_1d",
        "outputId": "5c7a20bd-2750-4c0b-a702-16944090bb35"
      },
      "execution_count": 332,
      "outputs": [
        {
          "output_type": "execute_result",
          "data": {
            "text/plain": [
              "LinearRegression()"
            ]
          },
          "metadata": {},
          "execution_count": 332
        }
      ]
    },
    {
      "cell_type": "code",
      "source": [
        "#Verificamos los coeficientes obtenidos para el modelo ajustado\n",
        "model.__dict__"
      ],
      "metadata": {
        "id": "q2-0VsFitB6G"
      },
      "execution_count": null,
      "outputs": []
    },
    {
      "cell_type": "code",
      "source": [
        "#Evaluamos la eficiencia del modelo obtenido por medio del coeficiente R2 Determinación\n",
        "model.score(Vars_Indep,Var_Dep)"
      ],
      "metadata": {
        "colab": {
          "base_uri": "https://localhost:8080/"
        },
        "id": "rjQogiOJtECX",
        "outputId": "7a6bb000-d0e7-46ba-9e4e-9749b306758a"
      },
      "execution_count": 334,
      "outputs": [
        {
          "output_type": "execute_result",
          "data": {
            "text/plain": [
              "0.3902233581613249"
            ]
          },
          "metadata": {},
          "execution_count": 334
        }
      ]
    },
    {
      "cell_type": "markdown",
      "source": [
        "MODELO PREDICTIVO"
      ],
      "metadata": {
        "id": "S4UbubRotI_r"
      }
    },
    {
      "cell_type": "code",
      "source": [
        "#Predecimos los valores de total de accidentes a partir de las variables: \"alcohol\", \"speeding\" y \"no_previous\"\n",
        "y_pred= model.predict(X=Microretailer_Datos_Limpios[['268_number_fridges', '104_how_many_shelves_does_the_micro_retailer_have','2_current_permanent_employees']])\n",
        "y_pred"
      ],
      "metadata": {
        "id": "UNhhbWGRtK4Z"
      },
      "execution_count": null,
      "outputs": []
    },
    {
      "cell_type": "code",
      "source": [
        "#Insertamos la columna de predicciones en el DataFrame\n",
        "Microretailer_Datos_Limpios.insert(0, 'Predicciones2', y_pred)\n",
        "Microretailer_Datos_Limpios"
      ],
      "metadata": {
        "id": "fqpqp0XftNtS"
      },
      "execution_count": null,
      "outputs": []
    },
    {
      "cell_type": "code",
      "source": [
        "#Visualizamos la gráfica comparativa entre el total real y el total predecido\n",
        "\n",
        "sns.scatterplot(x='268_number_fridges', y='4_number_permanent_employees_last_year', color=\"blue\", data=Microretailer_Datos_Limpios)\n",
        "sns.scatterplot(x='268_number_fridges', y='Predicciones2', color=\"red\", data=Microretailer_Datos_Limpios)"
      ],
      "metadata": {
        "id": "65SoMEiStSgH"
      },
      "execution_count": null,
      "outputs": []
    },
    {
      "cell_type": "code",
      "source": [
        "#Corroboramos cual es el coeficiente de Determinación de nuestro modelo\n",
        "coef_Deter=model.score(X=Vars_Indep, y=Var_Dep)\n",
        "coef_Deter"
      ],
      "metadata": {
        "id": "6KdcDPjQtUlq"
      },
      "execution_count": null,
      "outputs": []
    },
    {
      "cell_type": "markdown",
      "source": [
        "3."
      ],
      "metadata": {
        "id": "Ml6apPkpu66r"
      }
    },
    {
      "cell_type": "code",
      "source": [
        "from turtle import color\n",
        "sns.scatterplot(x='272_card_days_receive_money', y='97_number_of_customers_in_store', color=\"blue\", data=Microretailer_Datos_Limpios)\n",
        "sns.scatterplot(x='24_burnout', y='97_number_of_customers_in_store', color=\"red\", data=Microretailer_Datos_Limpios)\n",
        "sns.scatterplot(x='103_number_own_fridges', y='97_number_of_customers_in_store', color=\"yellow\", data=Microretailer_Datos_Limpios)"
      ],
      "metadata": {
        "id": "t-xVEJrku7vB"
      },
      "execution_count": null,
      "outputs": []
    },
    {
      "cell_type": "code",
      "source": [
        "#Declaramos las variables dependientes e independientes para la regresión lineal\n",
        "Vars_Indep= Microretailer_Datos_Limpios[['272_card_days_receive_money', '24_burnout','103_number_own_fridges']]\n",
        "Var_Dep= Microretailer_Datos_Limpios['97_number_of_customers_in_store']"
      ],
      "metadata": {
        "id": "m6Czp9WGu_ay"
      },
      "execution_count": 336,
      "outputs": []
    },
    {
      "cell_type": "code",
      "source": [
        "#Se define model como la función de regresión lineal\n",
        "from sklearn.linear_model import LinearRegression\n",
        "model= LinearRegression()"
      ],
      "metadata": {
        "id": "dtVCrU2FvEGC"
      },
      "execution_count": 337,
      "outputs": []
    },
    {
      "cell_type": "code",
      "source": [
        "#Verificamos la función relacionada al modelo\n",
        "type(model)"
      ],
      "metadata": {
        "colab": {
          "base_uri": "https://localhost:8080/"
        },
        "id": "bxFcDJCUvGh3",
        "outputId": "d109da6b-0bdc-4075-f4b7-ade8696db0ec"
      },
      "execution_count": 338,
      "outputs": [
        {
          "output_type": "execute_result",
          "data": {
            "text/plain": [
              "sklearn.linear_model._base.LinearRegression"
            ]
          },
          "metadata": {},
          "execution_count": 338
        }
      ]
    },
    {
      "cell_type": "code",
      "source": [
        "#Ajustamos el modelo con las variables antes declaradas\n",
        "model.fit(X=Vars_Indep, y=Var_Dep)"
      ],
      "metadata": {
        "colab": {
          "base_uri": "https://localhost:8080/"
        },
        "id": "UwOaKKIJvJCk",
        "outputId": "e5bcf7f5-a59b-435e-c8dd-8dcea10d9f55"
      },
      "execution_count": 339,
      "outputs": [
        {
          "output_type": "execute_result",
          "data": {
            "text/plain": [
              "LinearRegression()"
            ]
          },
          "metadata": {},
          "execution_count": 339
        }
      ]
    },
    {
      "cell_type": "code",
      "source": [
        "#Verificamos los coeficientes obtenidos para el modelo ajustado\n",
        "model.__dict__"
      ],
      "metadata": {
        "colab": {
          "base_uri": "https://localhost:8080/"
        },
        "id": "LGfahmW1vK-g",
        "outputId": "f8584cf5-e3af-4e93-f1b4-491adf94901e"
      },
      "execution_count": 340,
      "outputs": [
        {
          "output_type": "execute_result",
          "data": {
            "text/plain": [
              "{'fit_intercept': True,\n",
              " 'normalize': 'deprecated',\n",
              " 'copy_X': True,\n",
              " 'n_jobs': None,\n",
              " 'positive': False,\n",
              " 'feature_names_in_': array(['272_card_days_receive_money', '24_burnout',\n",
              "        '103_number_own_fridges'], dtype=object),\n",
              " 'n_features_in_': 3,\n",
              " 'coef_': array([-0.50647616, -0.02379031,  0.14478249]),\n",
              " '_residues': 587.1092335826645,\n",
              " 'rank_': 3,\n",
              " 'singular_': array([18.50839261, 14.60575355,  5.7007923 ]),\n",
              " 'intercept_': 1.4810264747192847}"
            ]
          },
          "metadata": {},
          "execution_count": 340
        }
      ]
    },
    {
      "cell_type": "code",
      "source": [
        "#Evaluamos la eficiencia del modelo obtenido por medio del coeficiente R2 Determinación\n",
        "model.score(Vars_Indep,Var_Dep)"
      ],
      "metadata": {
        "colab": {
          "base_uri": "https://localhost:8080/"
        },
        "id": "6f8aNcnmvNKQ",
        "outputId": "ac50d6a4-35f8-4711-ecd0-3954af77c401"
      },
      "execution_count": 341,
      "outputs": [
        {
          "output_type": "execute_result",
          "data": {
            "text/plain": [
              "0.022765676054767092"
            ]
          },
          "metadata": {},
          "execution_count": 341
        }
      ]
    },
    {
      "cell_type": "code",
      "source": [
        "#Corroboramos cual es el coeficiente de Correlación de nuestro modelo\n",
        "coef_Correl=np.sqrt(coef_Deter)\n",
        "coef_Correl"
      ],
      "metadata": {
        "colab": {
          "base_uri": "https://localhost:8080/"
        },
        "id": "HpyX7AI-wvrf",
        "outputId": "a7325061-d92a-4ec9-9923-cca937a253d3"
      },
      "execution_count": 342,
      "outputs": [
        {
          "output_type": "execute_result",
          "data": {
            "text/plain": [
              "0.16275743009419902"
            ]
          },
          "metadata": {},
          "execution_count": 342
        }
      ]
    },
    {
      "cell_type": "markdown",
      "source": [
        "MODELO PREDICTIVO"
      ],
      "metadata": {
        "id": "1X568r90vO8t"
      }
    },
    {
      "cell_type": "code",
      "source": [
        "#Predecimos los valores de total de accidentes a partir de las variables: \"alcohol\", \"speeding\" y \"no_previous\"\n",
        "y_pred= model.predict(X=Microretailer_Datos_Limpios[['272_card_days_receive_money', '24_burnout','103_number_own_fridges']])\n",
        "y_pred"
      ],
      "metadata": {
        "id": "Lh1e5EKHvQW0"
      },
      "execution_count": null,
      "outputs": []
    },
    {
      "cell_type": "code",
      "source": [
        "#Insertamos la columna de predicciones en el DataFrame\n",
        "Microretailer_Datos_Limpios.insert(0, 'Predicciones3', y_pred)\n",
        "Microretailer_Datos_Limpios"
      ],
      "metadata": {
        "id": "jXlGj8kkvUvz"
      },
      "execution_count": null,
      "outputs": []
    },
    {
      "cell_type": "code",
      "source": [
        "#Visualizamos la gráfica comparativa entre el total real y el total predecido\n",
        "\n",
        "sns.scatterplot(x='272_card_days_receive_money', y='97_number_of_customers_in_store', color=\"blue\", data=Microretailer_Datos_Limpios)\n",
        "sns.scatterplot(x='272_card_days_receive_money', y='Predicciones3', color=\"red\", data=Microretailer_Datos_Limpios)"
      ],
      "metadata": {
        "id": "cR2Qo69pvXFf"
      },
      "execution_count": null,
      "outputs": []
    },
    {
      "cell_type": "code",
      "source": [
        "#Corroboramos cual es el coeficiente de Determinación de nuestro modelo\n",
        "coef_Deter=model.score(X=Vars_Indep, y=Var_Dep)\n",
        "coef_Deter"
      ],
      "metadata": {
        "id": "H25qlbH6vZ6x"
      },
      "execution_count": null,
      "outputs": []
    },
    {
      "cell_type": "code",
      "source": [
        "#Corroboramos cual es el coeficiente de Correlación de nuestro modelo\n",
        "coef_Correl=np.sqrt(coef_Deter)\n",
        "coef_Correl"
      ],
      "metadata": {
        "id": "2HO4AfKVwtU0"
      },
      "execution_count": null,
      "outputs": []
    },
    {
      "cell_type": "markdown",
      "source": [
        "\n",
        "\n",
        "---\n",
        "\n"
      ],
      "metadata": {
        "id": "PCo0TdeixiMW"
      }
    },
    {
      "cell_type": "markdown",
      "source": [
        "REGRESIÓN LOGÍSTICA"
      ],
      "metadata": {
        "id": "Xw_UVd-T07rg"
      }
    },
    {
      "cell_type": "markdown",
      "source": [
        "1."
      ],
      "metadata": {
        "id": "Y_VAC2gx0911"
      }
    },
    {
      "cell_type": "code",
      "source": [
        "#Declaramos las variables dependientes e independientes para la regresión logística\n",
        "Vars_Indep= Microretailer_Datos_Limpios[['145_number_direct_competitors', '272_card_days_receive_money', '276_expected_days_informal_credit']]\n",
        "Var_Dep= Microretailer_Datos_Limpios['108_does_the_micro_retailer_has_a_barred_window_']"
      ],
      "metadata": {
        "id": "5QA8hCO2xkMk"
      },
      "execution_count": 343,
      "outputs": []
    },
    {
      "cell_type": "code",
      "source": [
        "#Redefinimos las variables\n",
        "X= Vars_Indep\n",
        "y= Var_Dep"
      ],
      "metadata": {
        "id": "w4LgMnDq2aDd"
      },
      "execution_count": 344,
      "outputs": []
    },
    {
      "cell_type": "code",
      "source": [
        "#Dividimos el conjunto de datos en la parte de entrenamiento y prueba:\n",
        "X_micro, X_test, y_micro, y_test = train_test_split(X, y, test_size=0.3, random_state =None)\n"
      ],
      "metadata": {
        "id": "YGqyAP6O2c-p"
      },
      "execution_count": 345,
      "outputs": []
    },
    {
      "cell_type": "code",
      "source": [
        "#Se escalan todos los datos\n",
        "escalar= StandardScaler()"
      ],
      "metadata": {
        "id": "hb_m39t12kjV"
      },
      "execution_count": 346,
      "outputs": []
    },
    {
      "cell_type": "code",
      "source": [
        "#Para realizar el escalamiento de las variables \"X\" tanto de entrenamiento como de prueba, utilizaremos fit_transform\n",
        "X_micro = escalar.fit_transform(X_micro)\n",
        "X_test = escalar.transform(X_test)"
      ],
      "metadata": {
        "id": "MKn5e-iU2oMd"
      },
      "execution_count": 347,
      "outputs": []
    },
    {
      "cell_type": "code",
      "source": [
        "#Definimos el algoritmo a utilizar\n",
        "from sklearn.linear_model import LogisticRegression\n",
        "algoritmo = LogisticRegression()"
      ],
      "metadata": {
        "id": "ZZkbwP_a2zVX"
      },
      "execution_count": 348,
      "outputs": []
    },
    {
      "cell_type": "code",
      "source": [
        "#Entrenamos el modelo\n",
        "algoritmo.fit(X_micro, y_micro)"
      ],
      "metadata": {
        "colab": {
          "base_uri": "https://localhost:8080/"
        },
        "id": "xMYM-oQl22fd",
        "outputId": "74294c7a-3da7-4f07-ffee-1307dff29795"
      },
      "execution_count": 349,
      "outputs": [
        {
          "output_type": "execute_result",
          "data": {
            "text/plain": [
              "LogisticRegression()"
            ]
          },
          "metadata": {},
          "execution_count": 349
        }
      ]
    },
    {
      "cell_type": "code",
      "source": [
        "#Realizamos una predicción\n",
        "y_pred= algoritmo.predict(X_test)\n",
        "y_pred "
      ],
      "metadata": {
        "id": "zkYWLl5N28S7"
      },
      "execution_count": null,
      "outputs": []
    },
    {
      "cell_type": "code",
      "source": [
        "#Verifico la matriz de Confusión\n",
        "from sklearn.metrics import confusion_matrix\n",
        "matriz = confusion_matrix(y_test, y_pred)\n",
        "print('Matriz de Confusión:')\n",
        "print(matriz)"
      ],
      "metadata": {
        "colab": {
          "base_uri": "https://localhost:8080/"
        },
        "id": "ydiQ4dlY28I-",
        "outputId": "886b6b32-46aa-4cf7-ea35-05ecb5969e1d"
      },
      "execution_count": 351,
      "outputs": [
        {
          "output_type": "stream",
          "name": "stdout",
          "text": [
            "Matriz de Confusión:\n",
            "[[71  1]\n",
            " [26  1]]\n"
          ]
        }
      ]
    },
    {
      "cell_type": "code",
      "source": [
        "#Calculo la precisión del modelo \n",
        "from sklearn.metrics import precision_score\n",
        "precision= precision_score(y_test, y_pred, average=\"binary\", pos_label=\"yes\")\n",
        "print('Precision del modelo:')\n",
        "print(precision)"
      ],
      "metadata": {
        "colab": {
          "base_uri": "https://localhost:8080/"
        },
        "id": "rvkNNitE3Es9",
        "outputId": "69eaac7b-7270-424f-b270-02321ffbfbef"
      },
      "execution_count": 352,
      "outputs": [
        {
          "output_type": "stream",
          "name": "stdout",
          "text": [
            "Precision del modelo:\n",
            "0.5\n"
          ]
        }
      ]
    },
    {
      "cell_type": "code",
      "source": [
        "#Calculo la exactitud del modelo\n",
        "from sklearn.metrics import accuracy_score\n",
        "exactitud= accuracy_score(y_test, y_pred)\n",
        "print('Exactitud del modelo')\n",
        "print(exactitud)"
      ],
      "metadata": {
        "colab": {
          "base_uri": "https://localhost:8080/"
        },
        "id": "2pKLCM4S3IGQ",
        "outputId": "9179d37b-3c95-496b-c0c2-a53d1bc14098"
      },
      "execution_count": 353,
      "outputs": [
        {
          "output_type": "stream",
          "name": "stdout",
          "text": [
            "Exactitud del modelo\n",
            "0.7272727272727273\n"
          ]
        }
      ]
    },
    {
      "cell_type": "code",
      "source": [
        "#Calculo la sensibilidad del modelo \n",
        "from sklearn.metrics import recall_score\n",
        "sensibilidad=recall_score(y_test, y_pred, average=\"binary\", pos_label=\"yes\")\n",
        "print('Sensibilidad del modelo')\n",
        "print(sensibilidad)"
      ],
      "metadata": {
        "colab": {
          "base_uri": "https://localhost:8080/"
        },
        "id": "GtuqnapW3MN2",
        "outputId": "32332782-d4c2-47af-ee1c-ddbc96c71487"
      },
      "execution_count": 354,
      "outputs": [
        {
          "output_type": "stream",
          "name": "stdout",
          "text": [
            "Sensibilidad del modelo\n",
            "0.037037037037037035\n"
          ]
        }
      ]
    },
    {
      "cell_type": "markdown",
      "source": [
        "2."
      ],
      "metadata": {
        "id": "1PsygvqG3Q9e"
      }
    },
    {
      "cell_type": "code",
      "source": [
        "#Declaramos las variables dependientes e independientes para la regresión logística\n",
        "Vars_Indep= Microretailer_Datos_Limpios[['268_number_fridges', '104_how_many_shelves_does_the_micro_retailer_have','2_current_permanent_employees']]\n",
        "Var_Dep= Microretailer_Datos_Limpios['99_does_the_micro_retailer_exhibits_products_outside_']"
      ],
      "metadata": {
        "id": "m8UqGfqX3Rs8"
      },
      "execution_count": 355,
      "outputs": []
    },
    {
      "cell_type": "code",
      "source": [
        "#Redefinimos las variables\n",
        "X= Vars_Indep\n",
        "y= Var_Dep"
      ],
      "metadata": {
        "id": "gtyZfkgb6VIG"
      },
      "execution_count": 356,
      "outputs": []
    },
    {
      "cell_type": "code",
      "source": [
        "#Dividimos el conjunto de datos en la parte de entrenamiento y prueba:\n",
        "X_micro, X_test, y_micro, y_test = train_test_split(X, y, test_size=0.3, random_state =None)\n"
      ],
      "metadata": {
        "id": "wFOcAEZp6XqS"
      },
      "execution_count": 357,
      "outputs": []
    },
    {
      "cell_type": "code",
      "source": [
        "#Se escalan todos los datos\n",
        "escalar= StandardScaler()"
      ],
      "metadata": {
        "id": "RROiEG7J6grN"
      },
      "execution_count": 358,
      "outputs": []
    },
    {
      "cell_type": "code",
      "source": [
        "#Para realizar el escalamiento de las variables \"X\" tanto de entrenamiento como de prueba, utilizaremos fit_transform\n",
        "X_micro = escalar.fit_transform(X_micro)\n",
        "X_test = escalar.transform(X_test)"
      ],
      "metadata": {
        "id": "656-migf6jn0"
      },
      "execution_count": 359,
      "outputs": []
    },
    {
      "cell_type": "code",
      "source": [
        "#Definimos el algoritmo a utilizar\n",
        "from sklearn.linear_model import LogisticRegression\n",
        "algoritmo = LogisticRegression()"
      ],
      "metadata": {
        "id": "TxI7rVI66mjI"
      },
      "execution_count": 360,
      "outputs": []
    },
    {
      "cell_type": "code",
      "source": [
        "#Entrenamos el modelo\n",
        "algoritmo.fit(X_micro, y_micro)"
      ],
      "metadata": {
        "colab": {
          "base_uri": "https://localhost:8080/"
        },
        "id": "dZXWGbHF6o0U",
        "outputId": "2356e7a6-47be-4653-c422-6c7a74d03ee4"
      },
      "execution_count": 361,
      "outputs": [
        {
          "output_type": "execute_result",
          "data": {
            "text/plain": [
              "LogisticRegression()"
            ]
          },
          "metadata": {},
          "execution_count": 361
        }
      ]
    },
    {
      "cell_type": "code",
      "source": [
        "#Realizamos una predicción\n",
        "y_pred= algoritmo.predict(X_test)\n",
        "y_pred "
      ],
      "metadata": {
        "colab": {
          "base_uri": "https://localhost:8080/"
        },
        "id": "UX9F1psN6rsJ",
        "outputId": "f3094269-a730-4d5a-a24e-9d69eb59334a"
      },
      "execution_count": 362,
      "outputs": [
        {
          "output_type": "execute_result",
          "data": {
            "text/plain": [
              "array(['no', 'no', 'no', 'no', 'no', 'no', 'no', 'no', 'no', 'no', 'no',\n",
              "       'no', 'no', 'no', 'no', 'no', 'no', 'no', 'no', 'no', 'no', 'no',\n",
              "       'no', 'no', 'no', 'no', 'no', 'no', 'no', 'no', 'no', 'no', 'no',\n",
              "       'no', 'no', 'no', 'no', 'no', 'no', 'no', 'no', 'no', 'no', 'no',\n",
              "       'no', 'no', 'no', 'no', 'no', 'no', 'no', 'no', 'no', 'no', 'no',\n",
              "       'no', 'no', 'no', 'no', 'no', 'no', 'no', 'no', 'no', 'no', 'no',\n",
              "       'no', 'no', 'no', 'no', 'no', 'no', 'no', 'no', 'no', 'no', 'no',\n",
              "       'no', 'no', 'no', 'no', 'no', 'no', 'no', 'no', 'no', 'no', 'no',\n",
              "       'no', 'no', 'no', 'no', 'no', 'no', 'no', 'no', 'no', 'no', 'no'],\n",
              "      dtype=object)"
            ]
          },
          "metadata": {},
          "execution_count": 362
        }
      ]
    },
    {
      "cell_type": "code",
      "source": [
        "#Verifico la matriz de Confusión\n",
        "from sklearn.metrics import confusion_matrix\n",
        "matriz = confusion_matrix(y_test, y_pred)\n",
        "print('Matriz de Confusión:')\n",
        "print(matriz)"
      ],
      "metadata": {
        "colab": {
          "base_uri": "https://localhost:8080/"
        },
        "id": "j8T644-W6uAx",
        "outputId": "7a9308ef-df19-41f3-af80-23bc02686061"
      },
      "execution_count": 363,
      "outputs": [
        {
          "output_type": "stream",
          "name": "stdout",
          "text": [
            "Matriz de Confusión:\n",
            "[[66  0]\n",
            " [33  0]]\n"
          ]
        }
      ]
    },
    {
      "cell_type": "code",
      "source": [
        "#Calculo la precisión del modelo \n",
        "from sklearn.metrics import precision_score\n",
        "precision= precision_score(y_test, y_pred, average=\"binary\", pos_label=\"yes\")\n",
        "print('Precision del modelo:')\n",
        "print(precision)"
      ],
      "metadata": {
        "colab": {
          "base_uri": "https://localhost:8080/"
        },
        "id": "GGF9MiIN6wl9",
        "outputId": "a4efeb60-387c-4220-a29f-391839a76f57"
      },
      "execution_count": 364,
      "outputs": [
        {
          "output_type": "stream",
          "name": "stdout",
          "text": [
            "Precision del modelo:\n",
            "0.0\n"
          ]
        },
        {
          "output_type": "stream",
          "name": "stderr",
          "text": [
            "/usr/local/lib/python3.7/dist-packages/sklearn/metrics/_classification.py:1318: UndefinedMetricWarning: Precision is ill-defined and being set to 0.0 due to no predicted samples. Use `zero_division` parameter to control this behavior.\n",
            "  _warn_prf(average, modifier, msg_start, len(result))\n"
          ]
        }
      ]
    },
    {
      "cell_type": "code",
      "source": [
        "#Calculo la exactitud del modelo\n",
        "from sklearn.metrics import accuracy_score\n",
        "exactitud= accuracy_score(y_test, y_pred)\n",
        "print('Exactitud del modelo')\n",
        "print(exactitud)"
      ],
      "metadata": {
        "colab": {
          "base_uri": "https://localhost:8080/"
        },
        "id": "8rzcfP756yra",
        "outputId": "2f1c427a-e2e6-4235-852a-faa113539ce5"
      },
      "execution_count": 365,
      "outputs": [
        {
          "output_type": "stream",
          "name": "stdout",
          "text": [
            "Exactitud del modelo\n",
            "0.6666666666666666\n"
          ]
        }
      ]
    },
    {
      "cell_type": "code",
      "source": [
        "#Calculo la sensibilidad del modelo \n",
        "from sklearn.metrics import recall_score\n",
        "sensibilidad=recall_score(y_test, y_pred, average=\"binary\", pos_label=\"yes\")\n",
        "print('Sensibilidad del modelo')\n",
        "print(sensibilidad)"
      ],
      "metadata": {
        "colab": {
          "base_uri": "https://localhost:8080/"
        },
        "id": "yyHK7M4_604m",
        "outputId": "388b2976-dcd6-4a30-debf-51daeb987d24"
      },
      "execution_count": 366,
      "outputs": [
        {
          "output_type": "stream",
          "name": "stdout",
          "text": [
            "Sensibilidad del modelo\n",
            "0.0\n"
          ]
        }
      ]
    },
    {
      "cell_type": "markdown",
      "source": [
        "3."
      ],
      "metadata": {
        "id": "58Uhc6hM7Sz8"
      }
    },
    {
      "cell_type": "code",
      "source": [
        "#Declaramos las variables dependientes e independientes para la regresión logística\n",
        "Vars_Indep= Microretailer_Datos_Limpios[['272_card_days_receive_money', '24_burnout','103_number_own_fridges']]\n",
        "Var_Dep= Microretailer_Datos_Limpios['102_does_the_micro_retailer_sells_fresh_products_']"
      ],
      "metadata": {
        "id": "UpvgplnX7ThV"
      },
      "execution_count": 367,
      "outputs": []
    },
    {
      "cell_type": "code",
      "source": [
        "#Redefinimos las variables\n",
        "X= Vars_Indep\n",
        "y= Var_Dep"
      ],
      "metadata": {
        "id": "eLSx6Rel7W6Q"
      },
      "execution_count": 368,
      "outputs": []
    },
    {
      "cell_type": "code",
      "source": [
        "#Dividimos el conjunto de datos en la parte de entrenamiento y prueba:\n",
        "X_micro, X_test, y_micro, y_test = train_test_split(X, y, test_size=0.3, random_state =None)"
      ],
      "metadata": {
        "id": "ez57y39z7bNv"
      },
      "execution_count": 369,
      "outputs": []
    },
    {
      "cell_type": "code",
      "source": [
        "#Se escalan todos los datos\n",
        "escalar= StandardScaler()"
      ],
      "metadata": {
        "id": "dN3iLFot7d9v"
      },
      "execution_count": 370,
      "outputs": []
    },
    {
      "cell_type": "code",
      "source": [
        "#Para realizar el escalamiento de las variables \"X\" tanto de entrenamiento como de prueba, utilizaremos fit_transform\n",
        "X_micro = escalar.fit_transform(X_micro)\n",
        "X_test = escalar.transform(X_test)"
      ],
      "metadata": {
        "id": "oxMnWjBS7gx8"
      },
      "execution_count": 371,
      "outputs": []
    },
    {
      "cell_type": "code",
      "source": [
        "#Definimos el algoritmo a utilizar\n",
        "from sklearn.linear_model import LogisticRegression\n",
        "algoritmo = LogisticRegression()"
      ],
      "metadata": {
        "id": "AZhJGPP-7jdu"
      },
      "execution_count": 372,
      "outputs": []
    },
    {
      "cell_type": "code",
      "source": [
        "#Entrenamos el modelo\n",
        "algoritmo.fit(X_micro, y_micro)"
      ],
      "metadata": {
        "colab": {
          "base_uri": "https://localhost:8080/"
        },
        "id": "Pc1JJHNA7l-F",
        "outputId": "d0e4aea5-db67-4d11-d750-6bed28aa0d74"
      },
      "execution_count": 373,
      "outputs": [
        {
          "output_type": "execute_result",
          "data": {
            "text/plain": [
              "LogisticRegression()"
            ]
          },
          "metadata": {},
          "execution_count": 373
        }
      ]
    },
    {
      "cell_type": "code",
      "source": [
        "#Realizamos una predicción\n",
        "y_pred= algoritmo.predict(X_test)\n",
        "y_pred "
      ],
      "metadata": {
        "colab": {
          "base_uri": "https://localhost:8080/"
        },
        "id": "yMZkpCoS7oxd",
        "outputId": "508ff6c3-2d0f-4dab-c0dc-7cd0246bc819"
      },
      "execution_count": 374,
      "outputs": [
        {
          "output_type": "execute_result",
          "data": {
            "text/plain": [
              "array(['no', 'no', 'no', 'no', 'no', 'no', 'yes', 'no', 'no', 'no', 'no',\n",
              "       'no', 'no', 'no', 'no', 'no', 'no', 'no', 'no', 'no', 'no', 'no',\n",
              "       'no', 'no', 'no', 'no', 'no', 'no', 'no', 'no', 'yes', 'no', 'yes',\n",
              "       'no', 'no', 'no', 'no', 'no', 'no', 'no', 'no', 'no', 'no', 'no',\n",
              "       'no', 'no', 'no', 'no', 'no', 'no', 'no', 'yes', 'yes', 'no', 'no',\n",
              "       'yes', 'no', 'no', 'no', 'no', 'no', 'yes', 'no', 'no', 'no', 'no',\n",
              "       'no', 'no', 'no', 'no', 'no', 'no', 'no', 'no', 'no', 'no', 'no',\n",
              "       'no', 'no', 'yes', 'no', 'no', 'no', 'yes', 'no', 'no', 'no', 'no',\n",
              "       'no', 'no', 'no', 'no', 'no', 'no', 'no', 'no', 'no', 'no', 'yes'],\n",
              "      dtype=object)"
            ]
          },
          "metadata": {},
          "execution_count": 374
        }
      ]
    },
    {
      "cell_type": "code",
      "source": [
        "#Verifico la matriz de Confusión\n",
        "from sklearn.metrics import confusion_matrix\n",
        "matriz = confusion_matrix(y_test, y_pred)\n",
        "print('Matriz de Confusión:')\n",
        "print(matriz)"
      ],
      "metadata": {
        "colab": {
          "base_uri": "https://localhost:8080/"
        },
        "id": "Xkc-mon67rrs",
        "outputId": "f56a2e56-044b-4cc2-fdf6-3b4a0dd57cae"
      },
      "execution_count": 375,
      "outputs": [
        {
          "output_type": "stream",
          "name": "stdout",
          "text": [
            "Matriz de Confusión:\n",
            "[[48  2]\n",
            " [41  8]]\n"
          ]
        }
      ]
    },
    {
      "cell_type": "code",
      "source": [
        "#Calculo la precisión del modelo \n",
        "from sklearn.metrics import precision_score\n",
        "precision= precision_score(y_test, y_pred, average=\"binary\", pos_label=\"yes\")\n",
        "print('Precision del modelo:')\n",
        "print(precision)"
      ],
      "metadata": {
        "colab": {
          "base_uri": "https://localhost:8080/"
        },
        "id": "mggYtHhX7uT_",
        "outputId": "865706b1-3844-4205-9a0c-b8a4f27f1269"
      },
      "execution_count": 376,
      "outputs": [
        {
          "output_type": "stream",
          "name": "stdout",
          "text": [
            "Precision del modelo:\n",
            "0.8\n"
          ]
        }
      ]
    },
    {
      "cell_type": "code",
      "source": [
        "#Calculo la exactitud del modelo\n",
        "from sklearn.metrics import accuracy_score\n",
        "exactitud= accuracy_score(y_test, y_pred)\n",
        "print('Exactitud del modelo')\n",
        "print(exactitud)"
      ],
      "metadata": {
        "colab": {
          "base_uri": "https://localhost:8080/"
        },
        "id": "YYWqGpqS7xvY",
        "outputId": "26a6db73-e7eb-4ec5-80b3-d5d518a6763f"
      },
      "execution_count": 377,
      "outputs": [
        {
          "output_type": "stream",
          "name": "stdout",
          "text": [
            "Exactitud del modelo\n",
            "0.5656565656565656\n"
          ]
        }
      ]
    },
    {
      "cell_type": "code",
      "source": [
        "#Calculo la sensibilidad del modelo \n",
        "from sklearn.metrics import recall_score\n",
        "sensibilidad=recall_score(y_test, y_pred, average=\"binary\", pos_label=\"yes\")\n",
        "print('Sensibilidad del modelo')\n",
        "print(sensibilidad)"
      ],
      "metadata": {
        "colab": {
          "base_uri": "https://localhost:8080/"
        },
        "id": "eBcuiDWH7z2l",
        "outputId": "c9058667-0230-4884-b29a-876be4b84a4f"
      },
      "execution_count": 378,
      "outputs": [
        {
          "output_type": "stream",
          "name": "stdout",
          "text": [
            "Sensibilidad del modelo\n",
            "0.16326530612244897\n"
          ]
        }
      ]
    }
  ]
}